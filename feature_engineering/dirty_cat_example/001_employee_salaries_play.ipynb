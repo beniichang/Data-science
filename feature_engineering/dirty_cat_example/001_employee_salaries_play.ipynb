{
 "cells": [
  {
   "cell_type": "markdown",
   "id": "2eabe102",
   "metadata": {
    "cell_id": "00000-0d1bb351-b2b9-452e-ac61-71c220e1516a",
    "deepnote_cell_type": "markdown",
    "tags": []
   },
   "source": [
    "[![View on GitHub](https://img.shields.io/badge/GitHub-View_on_GitHub-blue?logo=GitHub)](https://github.com/khuyentran1401/Data-science/blob/master/feature_engineering/dirty_cat_example/employee_salaries.ipynb)\n",
    "\n",
    "[<img src=\"https://deepnote.com/buttons/launch-in-deepnote.svg\">](https://deepnote.com/project/Data-science-hxlyJpi-QrKFJziQgoMSmQ/%2FData-science%2Ffeature_engineering%2Fdirty_cat_example%2Femployee_salaries.ipynb)"
   ]
  },
  {
   "cell_type": "code",
   "execution_count": 3,
   "id": "6430823f",
   "metadata": {
    "cell_id": "00001-9e493fdd-47cd-4063-8e06-70a9d8a4024c",
    "deepnote_cell_type": "code",
    "deepnote_to_be_reexecuted": false,
    "execution_millis": 3398,
    "execution_start": 1634005693783,
    "output_cleared": true,
    "source_hash": "d55a34bc",
    "tags": []
   },
   "outputs": [],
   "source": [
    "# !pip install dirty_cat==0.1.0"
   ]
  },
  {
   "cell_type": "code",
   "execution_count": 6,
   "id": "77091f3e",
   "metadata": {},
   "outputs": [],
   "source": [
    "# !pip install watermark"
   ]
  },
  {
   "cell_type": "code",
   "execution_count": 12,
   "id": "23f7f4e4",
   "metadata": {},
   "outputs": [],
   "source": [
    "# !pip install seaborn"
   ]
  },
  {
   "cell_type": "code",
   "execution_count": 7,
   "id": "8601f6ab",
   "metadata": {
    "cell_id": "00002-be7d30eb-eb94-4f08-bf02-f8563ea79e5d",
    "deepnote_cell_type": "code",
    "deepnote_to_be_reexecuted": false,
    "execution_millis": 17,
    "execution_start": 1634005803466,
    "source_hash": "2c397fdc",
    "tags": []
   },
   "outputs": [
    {
     "name": "stdout",
     "output_type": "stream",
     "text": [
      "\n"
     ]
    }
   ],
   "source": [
    "%load_ext watermark\n",
    "%watermark --iversions"
   ]
  },
  {
   "cell_type": "markdown",
   "id": "d10a2c5c",
   "metadata": {
    "cell_id": "00000-dae778d4-343f-4a7e-aab7-f262f56edb2c",
    "deepnote_cell_type": "markdown"
   },
   "source": [
    "# Import data"
   ]
  },
  {
   "cell_type": "code",
   "execution_count": 13,
   "id": "e2ee2829",
   "metadata": {
    "ExecuteTime": {
     "end_time": "2021-05-02T23:10:30.345845Z",
     "start_time": "2021-05-02T23:10:27.843477Z"
    },
    "cell_id": "00001-a6f27d5f-01f5-496c-875f-a33e813f4358",
    "deepnote_cell_type": "code",
    "deepnote_to_be_reexecuted": false,
    "execution_millis": 1,
    "execution_start": 1634005796229,
    "source_hash": "21ff7199"
   },
   "outputs": [],
   "source": [
    "from dirty_cat.datasets import fetch_employee_salaries\n",
    "from dirty_cat import SimilarityEncoder\n",
    "\n",
    "import pandas as pd\n",
    "import numpy as np\n",
    "import seaborn as sns"
   ]
  },
  {
   "cell_type": "code",
   "execution_count": 14,
   "id": "0937a4f5",
   "metadata": {
    "ExecuteTime": {
     "end_time": "2021-05-02T23:10:30.648254Z",
     "start_time": "2021-05-02T23:10:30.347346Z"
    },
    "cell_id": "00002-439b9e49-8259-4b11-9b7e-0aeced2b9c51",
    "deepnote_cell_type": "code",
    "deepnote_to_be_reexecuted": false,
    "execution_millis": 2444,
    "execution_start": 1634005703077,
    "source_hash": "2a0fa147"
   },
   "outputs": [],
   "source": [
    "df = fetch_employee_salaries()[\"data\"]"
   ]
  },
  {
   "cell_type": "code",
   "execution_count": 15,
   "id": "18a4567a",
   "metadata": {
    "ExecuteTime": {
     "end_time": "2021-05-02T23:10:30.680101Z",
     "start_time": "2021-05-02T23:10:30.651576Z"
    },
    "cell_id": "00003-6dcadf35-8c24-47ba-91e3-020fa49738d0",
    "deepnote_cell_type": "code",
    "deepnote_to_be_reexecuted": false,
    "execution_millis": 92,
    "execution_start": 1634005705532,
    "scrolled": true,
    "source_hash": "f30f989a"
   },
   "outputs": [
    {
     "data": {
      "text/html": [
       "<div>\n",
       "<style scoped>\n",
       "    .dataframe tbody tr th:only-of-type {\n",
       "        vertical-align: middle;\n",
       "    }\n",
       "\n",
       "    .dataframe tbody tr th {\n",
       "        vertical-align: top;\n",
       "    }\n",
       "\n",
       "    .dataframe thead th {\n",
       "        text-align: right;\n",
       "    }\n",
       "</style>\n",
       "<table border=\"1\" class=\"dataframe\">\n",
       "  <thead>\n",
       "    <tr style=\"text-align: right;\">\n",
       "      <th></th>\n",
       "      <th>full_name</th>\n",
       "      <th>gender</th>\n",
       "      <th>2016_gross_pay_received</th>\n",
       "      <th>2016_overtime_pay</th>\n",
       "      <th>department</th>\n",
       "      <th>department_name</th>\n",
       "      <th>division</th>\n",
       "      <th>assignment_category</th>\n",
       "      <th>employee_position_title</th>\n",
       "      <th>underfilled_job_title</th>\n",
       "      <th>date_first_hired</th>\n",
       "      <th>year_first_hired</th>\n",
       "      <th>Current Annual Salary</th>\n",
       "    </tr>\n",
       "  </thead>\n",
       "  <tbody>\n",
       "    <tr>\n",
       "      <th>0</th>\n",
       "      <td>Aarhus, Pam J.</td>\n",
       "      <td>F</td>\n",
       "      <td>71225.98</td>\n",
       "      <td>416.10</td>\n",
       "      <td>POL</td>\n",
       "      <td>Department of Police</td>\n",
       "      <td>MSB Information Mgmt and Tech Division Records...</td>\n",
       "      <td>Fulltime-Regular</td>\n",
       "      <td>Office Services Coordinator</td>\n",
       "      <td>None</td>\n",
       "      <td>09/22/1986</td>\n",
       "      <td>1986.0</td>\n",
       "      <td>69222.18</td>\n",
       "    </tr>\n",
       "    <tr>\n",
       "      <th>1</th>\n",
       "      <td>Aaron, David J.</td>\n",
       "      <td>M</td>\n",
       "      <td>103088.48</td>\n",
       "      <td>3326.19</td>\n",
       "      <td>POL</td>\n",
       "      <td>Department of Police</td>\n",
       "      <td>ISB Major Crimes Division Fugitive Section</td>\n",
       "      <td>Fulltime-Regular</td>\n",
       "      <td>Master Police Officer</td>\n",
       "      <td>None</td>\n",
       "      <td>09/12/1988</td>\n",
       "      <td>1988.0</td>\n",
       "      <td>97392.47</td>\n",
       "    </tr>\n",
       "    <tr>\n",
       "      <th>2</th>\n",
       "      <td>Aaron, Marsha M.</td>\n",
       "      <td>F</td>\n",
       "      <td>107000.24</td>\n",
       "      <td>1353.32</td>\n",
       "      <td>HHS</td>\n",
       "      <td>Department of Health and Human Services</td>\n",
       "      <td>Adult Protective and Case Management Services</td>\n",
       "      <td>Fulltime-Regular</td>\n",
       "      <td>Social Worker IV</td>\n",
       "      <td>None</td>\n",
       "      <td>11/19/1989</td>\n",
       "      <td>1989.0</td>\n",
       "      <td>104717.28</td>\n",
       "    </tr>\n",
       "    <tr>\n",
       "      <th>3</th>\n",
       "      <td>Ababio, Godfred A.</td>\n",
       "      <td>M</td>\n",
       "      <td>57819.04</td>\n",
       "      <td>3423.07</td>\n",
       "      <td>COR</td>\n",
       "      <td>Correction and Rehabilitation</td>\n",
       "      <td>PRRS Facility and Security</td>\n",
       "      <td>Fulltime-Regular</td>\n",
       "      <td>Resident Supervisor II</td>\n",
       "      <td>None</td>\n",
       "      <td>05/05/2014</td>\n",
       "      <td>2014.0</td>\n",
       "      <td>52734.57</td>\n",
       "    </tr>\n",
       "    <tr>\n",
       "      <th>4</th>\n",
       "      <td>Ababu, Essayas</td>\n",
       "      <td>M</td>\n",
       "      <td>95815.17</td>\n",
       "      <td>NaN</td>\n",
       "      <td>HCA</td>\n",
       "      <td>Department of Housing and Community Affairs</td>\n",
       "      <td>Affordable Housing Programs</td>\n",
       "      <td>Fulltime-Regular</td>\n",
       "      <td>Planning Specialist III</td>\n",
       "      <td>None</td>\n",
       "      <td>03/05/2007</td>\n",
       "      <td>2007.0</td>\n",
       "      <td>93396.00</td>\n",
       "    </tr>\n",
       "    <tr>\n",
       "      <th>5</th>\n",
       "      <td>Abbamonte, Drew B.</td>\n",
       "      <td>M</td>\n",
       "      <td>80926.43</td>\n",
       "      <td>9111.09</td>\n",
       "      <td>POL</td>\n",
       "      <td>Department of Police</td>\n",
       "      <td>PSB 6th District Special Assignment Team</td>\n",
       "      <td>Fulltime-Regular</td>\n",
       "      <td>Police Officer III</td>\n",
       "      <td>None</td>\n",
       "      <td>07/16/2007</td>\n",
       "      <td>2007.0</td>\n",
       "      <td>70435.00</td>\n",
       "    </tr>\n",
       "    <tr>\n",
       "      <th>6</th>\n",
       "      <td>Abdalla, Eiman M.</td>\n",
       "      <td>F</td>\n",
       "      <td>27820.02</td>\n",
       "      <td>NaN</td>\n",
       "      <td>FRS</td>\n",
       "      <td>Fire and Rescue Services</td>\n",
       "      <td>EMS Billing</td>\n",
       "      <td>Fulltime-Regular</td>\n",
       "      <td>Accountant/Auditor II</td>\n",
       "      <td>None</td>\n",
       "      <td>06/27/2016</td>\n",
       "      <td>2016.0</td>\n",
       "      <td>60300.00</td>\n",
       "    </tr>\n",
       "    <tr>\n",
       "      <th>7</th>\n",
       "      <td>Abdelmoniem, Marwan M.</td>\n",
       "      <td>M</td>\n",
       "      <td>62588.67</td>\n",
       "      <td>NaN</td>\n",
       "      <td>HHS</td>\n",
       "      <td>Department of Health and Human Services</td>\n",
       "      <td>Head Start</td>\n",
       "      <td>Fulltime-Regular</td>\n",
       "      <td>Administrative Specialist II</td>\n",
       "      <td>None</td>\n",
       "      <td>11/17/2014</td>\n",
       "      <td>2014.0</td>\n",
       "      <td>64788.65</td>\n",
       "    </tr>\n",
       "    <tr>\n",
       "      <th>8</th>\n",
       "      <td>Abdool, Daniel Z.</td>\n",
       "      <td>M</td>\n",
       "      <td>NaN</td>\n",
       "      <td>NaN</td>\n",
       "      <td>FRS</td>\n",
       "      <td>Fire and Rescue Services</td>\n",
       "      <td>Recruit Training</td>\n",
       "      <td>Fulltime-Regular</td>\n",
       "      <td>Firefighter/Rescuer III</td>\n",
       "      <td>Firefighter/Rescuer I (Recruit)</td>\n",
       "      <td>12/12/2016</td>\n",
       "      <td>2016.0</td>\n",
       "      <td>45261.00</td>\n",
       "    </tr>\n",
       "    <tr>\n",
       "      <th>9</th>\n",
       "      <td>Abdul-Ghani, Hasinah J.</td>\n",
       "      <td>F</td>\n",
       "      <td>49336.12</td>\n",
       "      <td>275.03</td>\n",
       "      <td>POL</td>\n",
       "      <td>Department of Police</td>\n",
       "      <td>FSB Traffic Division Automated Traffic Enforce...</td>\n",
       "      <td>Fulltime-Regular</td>\n",
       "      <td>Police Aide</td>\n",
       "      <td>None</td>\n",
       "      <td>02/05/2007</td>\n",
       "      <td>2007.0</td>\n",
       "      <td>47670.09</td>\n",
       "    </tr>\n",
       "  </tbody>\n",
       "</table>\n",
       "</div>"
      ],
      "text/plain": [
       "                 full_name gender  2016_gross_pay_received  2016_overtime_pay  \\\n",
       "0           Aarhus, Pam J.      F                 71225.98             416.10   \n",
       "1          Aaron, David J.      M                103088.48            3326.19   \n",
       "2         Aaron, Marsha M.      F                107000.24            1353.32   \n",
       "3       Ababio, Godfred A.      M                 57819.04            3423.07   \n",
       "4           Ababu, Essayas      M                 95815.17                NaN   \n",
       "5       Abbamonte, Drew B.      M                 80926.43            9111.09   \n",
       "6        Abdalla, Eiman M.      F                 27820.02                NaN   \n",
       "7   Abdelmoniem, Marwan M.      M                 62588.67                NaN   \n",
       "8        Abdool, Daniel Z.      M                      NaN                NaN   \n",
       "9  Abdul-Ghani, Hasinah J.      F                 49336.12             275.03   \n",
       "\n",
       "  department                              department_name  \\\n",
       "0        POL                         Department of Police   \n",
       "1        POL                         Department of Police   \n",
       "2        HHS      Department of Health and Human Services   \n",
       "3        COR                Correction and Rehabilitation   \n",
       "4        HCA  Department of Housing and Community Affairs   \n",
       "5        POL                         Department of Police   \n",
       "6        FRS                     Fire and Rescue Services   \n",
       "7        HHS      Department of Health and Human Services   \n",
       "8        FRS                     Fire and Rescue Services   \n",
       "9        POL                         Department of Police   \n",
       "\n",
       "                                            division assignment_category  \\\n",
       "0  MSB Information Mgmt and Tech Division Records...    Fulltime-Regular   \n",
       "1         ISB Major Crimes Division Fugitive Section    Fulltime-Regular   \n",
       "2      Adult Protective and Case Management Services    Fulltime-Regular   \n",
       "3                         PRRS Facility and Security    Fulltime-Regular   \n",
       "4                        Affordable Housing Programs    Fulltime-Regular   \n",
       "5           PSB 6th District Special Assignment Team    Fulltime-Regular   \n",
       "6                                        EMS Billing    Fulltime-Regular   \n",
       "7                                         Head Start    Fulltime-Regular   \n",
       "8                                   Recruit Training    Fulltime-Regular   \n",
       "9  FSB Traffic Division Automated Traffic Enforce...    Fulltime-Regular   \n",
       "\n",
       "        employee_position_title            underfilled_job_title  \\\n",
       "0   Office Services Coordinator                             None   \n",
       "1         Master Police Officer                             None   \n",
       "2              Social Worker IV                             None   \n",
       "3        Resident Supervisor II                             None   \n",
       "4       Planning Specialist III                             None   \n",
       "5            Police Officer III                             None   \n",
       "6         Accountant/Auditor II                             None   \n",
       "7  Administrative Specialist II                             None   \n",
       "8       Firefighter/Rescuer III  Firefighter/Rescuer I (Recruit)   \n",
       "9                   Police Aide                             None   \n",
       "\n",
       "  date_first_hired  year_first_hired  Current Annual Salary  \n",
       "0       09/22/1986            1986.0               69222.18  \n",
       "1       09/12/1988            1988.0               97392.47  \n",
       "2       11/19/1989            1989.0              104717.28  \n",
       "3       05/05/2014            2014.0               52734.57  \n",
       "4       03/05/2007            2007.0               93396.00  \n",
       "5       07/16/2007            2007.0               70435.00  \n",
       "6       06/27/2016            2016.0               60300.00  \n",
       "7       11/17/2014            2014.0               64788.65  \n",
       "8       12/12/2016            2016.0               45261.00  \n",
       "9       02/05/2007            2007.0               47670.09  "
      ]
     },
     "execution_count": 15,
     "metadata": {},
     "output_type": "execute_result"
    }
   ],
   "source": [
    "df.head(10)"
   ]
  },
  {
   "cell_type": "code",
   "execution_count": 16,
   "id": "3ac2e5ba",
   "metadata": {},
   "outputs": [
    {
     "data": {
      "text/plain": [
       "(9228, 13)"
      ]
     },
     "execution_count": 16,
     "metadata": {},
     "output_type": "execute_result"
    }
   ],
   "source": [
    "df.shape"
   ]
  },
  {
   "cell_type": "code",
   "execution_count": 17,
   "id": "93aa617b",
   "metadata": {
    "scrolled": true
   },
   "outputs": [
    {
     "data": {
      "text/plain": [
       "Index(['full_name', 'gender', '2016_gross_pay_received', '2016_overtime_pay',\n",
       "       'department', 'department_name', 'division', 'assignment_category',\n",
       "       'employee_position_title', 'underfilled_job_title', 'date_first_hired',\n",
       "       'year_first_hired', 'Current Annual Salary'],\n",
       "      dtype='object')"
      ]
     },
     "execution_count": 17,
     "metadata": {},
     "output_type": "execute_result"
    }
   ],
   "source": [
    "df.columns"
   ]
  },
  {
   "cell_type": "code",
   "execution_count": 18,
   "id": "a3cbee26",
   "metadata": {},
   "outputs": [
    {
     "data": {
      "text/html": [
       "<div>\n",
       "<style scoped>\n",
       "    .dataframe tbody tr th:only-of-type {\n",
       "        vertical-align: middle;\n",
       "    }\n",
       "\n",
       "    .dataframe tbody tr th {\n",
       "        vertical-align: top;\n",
       "    }\n",
       "\n",
       "    .dataframe thead th {\n",
       "        text-align: right;\n",
       "    }\n",
       "</style>\n",
       "<table border=\"1\" class=\"dataframe\">\n",
       "  <thead>\n",
       "    <tr style=\"text-align: right;\">\n",
       "      <th></th>\n",
       "      <th>2016_gross_pay_received</th>\n",
       "      <th>2016_overtime_pay</th>\n",
       "      <th>year_first_hired</th>\n",
       "      <th>Current Annual Salary</th>\n",
       "    </tr>\n",
       "  </thead>\n",
       "  <tbody>\n",
       "    <tr>\n",
       "      <th>count</th>\n",
       "      <td>9128.000000</td>\n",
       "      <td>6311.000000</td>\n",
       "      <td>9228.000000</td>\n",
       "      <td>9228.000000</td>\n",
       "    </tr>\n",
       "    <tr>\n",
       "      <th>mean</th>\n",
       "      <td>79504.036708</td>\n",
       "      <td>10334.301512</td>\n",
       "      <td>2003.597529</td>\n",
       "      <td>73390.178435</td>\n",
       "    </tr>\n",
       "    <tr>\n",
       "      <th>std</th>\n",
       "      <td>35105.237959</td>\n",
       "      <td>12678.495029</td>\n",
       "      <td>9.327078</td>\n",
       "      <td>29119.118284</td>\n",
       "    </tr>\n",
       "    <tr>\n",
       "      <th>min</th>\n",
       "      <td>0.000000</td>\n",
       "      <td>-2222.850000</td>\n",
       "      <td>1965.000000</td>\n",
       "      <td>9196.000000</td>\n",
       "    </tr>\n",
       "    <tr>\n",
       "      <th>25%</th>\n",
       "      <td>56690.702500</td>\n",
       "      <td>1726.540000</td>\n",
       "      <td>1998.000000</td>\n",
       "      <td>52592.927500</td>\n",
       "    </tr>\n",
       "    <tr>\n",
       "      <th>50%</th>\n",
       "      <td>76866.550000</td>\n",
       "      <td>6184.450000</td>\n",
       "      <td>2005.000000</td>\n",
       "      <td>69390.000000</td>\n",
       "    </tr>\n",
       "    <tr>\n",
       "      <th>75%</th>\n",
       "      <td>100170.335000</td>\n",
       "      <td>14309.685000</td>\n",
       "      <td>2012.000000</td>\n",
       "      <td>91969.070000</td>\n",
       "    </tr>\n",
       "    <tr>\n",
       "      <th>max</th>\n",
       "      <td>313700.420000</td>\n",
       "      <td>125244.350000</td>\n",
       "      <td>2016.000000</td>\n",
       "      <td>303091.000000</td>\n",
       "    </tr>\n",
       "  </tbody>\n",
       "</table>\n",
       "</div>"
      ],
      "text/plain": [
       "       2016_gross_pay_received  2016_overtime_pay  year_first_hired  \\\n",
       "count              9128.000000        6311.000000       9228.000000   \n",
       "mean              79504.036708       10334.301512       2003.597529   \n",
       "std               35105.237959       12678.495029          9.327078   \n",
       "min                   0.000000       -2222.850000       1965.000000   \n",
       "25%               56690.702500        1726.540000       1998.000000   \n",
       "50%               76866.550000        6184.450000       2005.000000   \n",
       "75%              100170.335000       14309.685000       2012.000000   \n",
       "max              313700.420000      125244.350000       2016.000000   \n",
       "\n",
       "       Current Annual Salary  \n",
       "count            9228.000000  \n",
       "mean            73390.178435  \n",
       "std             29119.118284  \n",
       "min              9196.000000  \n",
       "25%             52592.927500  \n",
       "50%             69390.000000  \n",
       "75%             91969.070000  \n",
       "max            303091.000000  "
      ]
     },
     "execution_count": 18,
     "metadata": {},
     "output_type": "execute_result"
    }
   ],
   "source": [
    "df.describe()"
   ]
  },
  {
   "cell_type": "code",
   "execution_count": 19,
   "id": "5fae7cf0",
   "metadata": {
    "ExecuteTime": {
     "end_time": "2021-05-02T23:10:30.720884Z",
     "start_time": "2021-05-02T23:10:30.681151Z"
    },
    "cell_id": "00004-d73ca8b9-75ce-4324-896b-a98f7b4e2f15",
    "deepnote_cell_type": "code",
    "deepnote_to_be_reexecuted": false,
    "execution_millis": 44,
    "execution_start": 1634005707139,
    "source_hash": "6ba4a766"
   },
   "outputs": [],
   "source": [
    "df[\"Date First Hired\"] = pd.to_datetime(df[\"date_first_hired\"])\n",
    "df[\"Year First Hired\"] = df[\"Date First Hired\"].apply(lambda x: x.year)\n",
    "# drop rows with NaN in gender\n",
    "df.dropna(subset=[\"gender\"], inplace=True)"
   ]
  },
  {
   "cell_type": "code",
   "execution_count": 20,
   "id": "ac277653",
   "metadata": {},
   "outputs": [
    {
     "data": {
      "text/plain": [
       "(9211, 15)"
      ]
     },
     "execution_count": 20,
     "metadata": {},
     "output_type": "execute_result"
    }
   ],
   "source": [
    "df.shape"
   ]
  },
  {
   "cell_type": "markdown",
   "id": "cf34e756",
   "metadata": {
    "cell_id": "00005-834bd0e3-c8be-4b32-bd27-694ecb6c50da",
    "deepnote_cell_type": "markdown"
   },
   "source": [
    "# Encoding"
   ]
  },
  {
   "cell_type": "code",
   "execution_count": 21,
   "id": "9e27c2ed",
   "metadata": {
    "ExecuteTime": {
     "end_time": "2021-05-02T23:10:30.724677Z",
     "start_time": "2021-05-02T23:10:30.721798Z"
    },
    "cell_id": "00006-863d6902-569b-49de-bdcd-098f5671ef43",
    "deepnote_cell_type": "code",
    "deepnote_to_be_reexecuted": false,
    "execution_millis": 31,
    "execution_start": 1634005710682,
    "scrolled": true,
    "source_hash": "dd8d9e17"
   },
   "outputs": [
    {
     "data": {
      "text/plain": [
       "array(['Office Services Coordinator', 'Master Police Officer',\n",
       "       'Social Worker IV', 'Resident Supervisor II',\n",
       "       'Planning Specialist III', 'Police Officer III',\n",
       "       'Accountant/Auditor II', 'Administrative Specialist II',\n",
       "       'Firefighter/Rescuer III', 'Police Aide'], dtype=object)"
      ]
     },
     "execution_count": 21,
     "metadata": {},
     "output_type": "execute_result"
    }
   ],
   "source": [
    "dirty_column = \"employee_position_title\"\n",
    "X_dirty = df[dirty_column].values\n",
    "sample = X_dirty[:10]\n",
    "sample"
   ]
  },
  {
   "cell_type": "code",
   "execution_count": 25,
   "id": "b3e084d9",
   "metadata": {
    "scrolled": true
   },
   "outputs": [
    {
     "data": {
      "text/plain": [
       "Abandoned Vehicle Code Enforcement Specialist        4\n",
       "Accountant/Auditor I                                 3\n",
       "Accountant/Auditor II                                1\n",
       "Accountant/Auditor III                              35\n",
       "Administrative Assistant to the County Executive     1\n",
       "                                                    ..\n",
       "Welder                                               3\n",
       "Work Force Leader I                                  1\n",
       "Work Force Leader II                                28\n",
       "Work Force Leader III                                2\n",
       "Work Force Leader IV                                 9\n",
       "Name: employee_position_title, Length: 385, dtype: int64"
      ]
     },
     "execution_count": 25,
     "metadata": {},
     "output_type": "execute_result"
    }
   ],
   "source": [
    "df[dirty_column].value_counts().sort_index()"
   ]
  },
  {
   "cell_type": "code",
   "execution_count": 26,
   "id": "ce89c5b2",
   "metadata": {},
   "outputs": [
    {
     "data": {
      "text/plain": [
       "385"
      ]
     },
     "execution_count": 26,
     "metadata": {},
     "output_type": "execute_result"
    }
   ],
   "source": [
    "alltypes = df[dirty_column].value_counts().sort_index()\n",
    "len(alltypes)"
   ]
  },
  {
   "cell_type": "code",
   "execution_count": 22,
   "id": "3ffca5a2",
   "metadata": {},
   "outputs": [
    {
     "data": {
      "text/plain": [
       "numpy.ndarray"
      ]
     },
     "execution_count": 22,
     "metadata": {},
     "output_type": "execute_result"
    }
   ],
   "source": [
    "type(X_dirty)"
   ]
  },
  {
   "cell_type": "code",
   "execution_count": 23,
   "id": "b907b7ad",
   "metadata": {},
   "outputs": [
    {
     "data": {
      "text/plain": [
       "9211"
      ]
     },
     "execution_count": 23,
     "metadata": {},
     "output_type": "execute_result"
    }
   ],
   "source": [
    "len(X_dirty)"
   ]
  },
  {
   "cell_type": "markdown",
   "id": "d3da1c7f",
   "metadata": {
    "cell_id": "00007-06abab3a-3df6-40cd-83e3-326bbfc14bf8",
    "deepnote_cell_type": "markdown"
   },
   "source": [
    "## One-hot Encoding"
   ]
  },
  {
   "cell_type": "code",
   "execution_count": 24,
   "id": "935e7af8",
   "metadata": {
    "ExecuteTime": {
     "end_time": "2021-05-02T23:10:30.727552Z",
     "start_time": "2021-05-02T23:10:30.725644Z"
    },
    "cell_id": "00008-2f06e7d0-deaa-4568-8d3b-9d46c7129b01",
    "deepnote_cell_type": "code",
    "deepnote_to_be_reexecuted": false,
    "execution_millis": 2,
    "execution_start": 1634005713347,
    "source_hash": "e1e6f593"
   },
   "outputs": [],
   "source": [
    "from sklearn.preprocessing import OneHotEncoder"
   ]
  },
  {
   "cell_type": "code",
   "execution_count": 27,
   "id": "92475524",
   "metadata": {
    "ExecuteTime": {
     "end_time": "2021-05-02T23:10:30.733961Z",
     "start_time": "2021-05-02T23:10:30.729479Z"
    },
    "cell_id": "00009-eb404dc6-5292-4567-89bd-73e0dcc8ecc5",
    "deepnote_cell_type": "code",
    "deepnote_to_be_reexecuted": false,
    "execution_millis": 15,
    "execution_start": 1634005713963,
    "source_hash": "ba922db5"
   },
   "outputs": [
    {
     "data": {
      "text/plain": [
       "array([[0., 0., 0., 0., 1., 0., 0., 0., 0., 0.],\n",
       "       [0., 0., 0., 1., 0., 0., 0., 0., 0., 0.],\n",
       "       [0., 0., 0., 0., 0., 0., 0., 0., 0., 1.],\n",
       "       [0., 0., 0., 0., 0., 0., 0., 0., 1., 0.],\n",
       "       [0., 0., 0., 0., 0., 1., 0., 0., 0., 0.],\n",
       "       [0., 0., 0., 0., 0., 0., 0., 1., 0., 0.],\n",
       "       [1., 0., 0., 0., 0., 0., 0., 0., 0., 0.],\n",
       "       [0., 1., 0., 0., 0., 0., 0., 0., 0., 0.],\n",
       "       [0., 0., 1., 0., 0., 0., 0., 0., 0., 0.],\n",
       "       [0., 0., 0., 0., 0., 0., 1., 0., 0., 0.]])"
      ]
     },
     "execution_count": 27,
     "metadata": {},
     "output_type": "execute_result"
    }
   ],
   "source": [
    "enc = OneHotEncoder(sparse=False)\n",
    "onehot = enc.fit_transform(sample.reshape(-1, 1))\n",
    "onehot"
   ]
  },
  {
   "cell_type": "code",
   "execution_count": 28,
   "id": "abe0df2c",
   "metadata": {
    "ExecuteTime": {
     "end_time": "2021-05-02T23:10:30.753533Z",
     "start_time": "2021-05-02T23:10:30.738932Z"
    },
    "cell_id": "00011-50f892ae-3017-4ff0-9204-febfaa50c1fd",
    "deepnote_cell_type": "code",
    "deepnote_to_be_reexecuted": false,
    "execution_millis": 43,
    "execution_start": 1634005716233,
    "source_hash": "fcb8b8d1"
   },
   "outputs": [
    {
     "data": {
      "text/html": [
       "<div>\n",
       "<style scoped>\n",
       "    .dataframe tbody tr th:only-of-type {\n",
       "        vertical-align: middle;\n",
       "    }\n",
       "\n",
       "    .dataframe tbody tr th {\n",
       "        vertical-align: top;\n",
       "    }\n",
       "\n",
       "    .dataframe thead th {\n",
       "        text-align: right;\n",
       "    }\n",
       "</style>\n",
       "<table border=\"1\" class=\"dataframe\">\n",
       "  <thead>\n",
       "    <tr style=\"text-align: right;\">\n",
       "      <th></th>\n",
       "      <th>0</th>\n",
       "      <th>1</th>\n",
       "      <th>2</th>\n",
       "      <th>3</th>\n",
       "      <th>4</th>\n",
       "      <th>5</th>\n",
       "      <th>6</th>\n",
       "      <th>7</th>\n",
       "      <th>8</th>\n",
       "      <th>9</th>\n",
       "    </tr>\n",
       "  </thead>\n",
       "  <tbody>\n",
       "    <tr>\n",
       "      <th>Office Services Coordinator</th>\n",
       "      <td>0.0</td>\n",
       "      <td>0.0</td>\n",
       "      <td>0.0</td>\n",
       "      <td>0.0</td>\n",
       "      <td>1.0</td>\n",
       "      <td>0.0</td>\n",
       "      <td>0.0</td>\n",
       "      <td>0.0</td>\n",
       "      <td>0.0</td>\n",
       "      <td>0.0</td>\n",
       "    </tr>\n",
       "    <tr>\n",
       "      <th>Master Police Officer</th>\n",
       "      <td>0.0</td>\n",
       "      <td>0.0</td>\n",
       "      <td>0.0</td>\n",
       "      <td>1.0</td>\n",
       "      <td>0.0</td>\n",
       "      <td>0.0</td>\n",
       "      <td>0.0</td>\n",
       "      <td>0.0</td>\n",
       "      <td>0.0</td>\n",
       "      <td>0.0</td>\n",
       "    </tr>\n",
       "    <tr>\n",
       "      <th>Social Worker IV</th>\n",
       "      <td>0.0</td>\n",
       "      <td>0.0</td>\n",
       "      <td>0.0</td>\n",
       "      <td>0.0</td>\n",
       "      <td>0.0</td>\n",
       "      <td>0.0</td>\n",
       "      <td>0.0</td>\n",
       "      <td>0.0</td>\n",
       "      <td>0.0</td>\n",
       "      <td>1.0</td>\n",
       "    </tr>\n",
       "    <tr>\n",
       "      <th>Resident Supervisor II</th>\n",
       "      <td>0.0</td>\n",
       "      <td>0.0</td>\n",
       "      <td>0.0</td>\n",
       "      <td>0.0</td>\n",
       "      <td>0.0</td>\n",
       "      <td>0.0</td>\n",
       "      <td>0.0</td>\n",
       "      <td>0.0</td>\n",
       "      <td>1.0</td>\n",
       "      <td>0.0</td>\n",
       "    </tr>\n",
       "    <tr>\n",
       "      <th>Planning Specialist III</th>\n",
       "      <td>0.0</td>\n",
       "      <td>0.0</td>\n",
       "      <td>0.0</td>\n",
       "      <td>0.0</td>\n",
       "      <td>0.0</td>\n",
       "      <td>1.0</td>\n",
       "      <td>0.0</td>\n",
       "      <td>0.0</td>\n",
       "      <td>0.0</td>\n",
       "      <td>0.0</td>\n",
       "    </tr>\n",
       "    <tr>\n",
       "      <th>Police Officer III</th>\n",
       "      <td>0.0</td>\n",
       "      <td>0.0</td>\n",
       "      <td>0.0</td>\n",
       "      <td>0.0</td>\n",
       "      <td>0.0</td>\n",
       "      <td>0.0</td>\n",
       "      <td>0.0</td>\n",
       "      <td>1.0</td>\n",
       "      <td>0.0</td>\n",
       "      <td>0.0</td>\n",
       "    </tr>\n",
       "    <tr>\n",
       "      <th>Accountant/Auditor II</th>\n",
       "      <td>1.0</td>\n",
       "      <td>0.0</td>\n",
       "      <td>0.0</td>\n",
       "      <td>0.0</td>\n",
       "      <td>0.0</td>\n",
       "      <td>0.0</td>\n",
       "      <td>0.0</td>\n",
       "      <td>0.0</td>\n",
       "      <td>0.0</td>\n",
       "      <td>0.0</td>\n",
       "    </tr>\n",
       "    <tr>\n",
       "      <th>Administrative Specialist II</th>\n",
       "      <td>0.0</td>\n",
       "      <td>1.0</td>\n",
       "      <td>0.0</td>\n",
       "      <td>0.0</td>\n",
       "      <td>0.0</td>\n",
       "      <td>0.0</td>\n",
       "      <td>0.0</td>\n",
       "      <td>0.0</td>\n",
       "      <td>0.0</td>\n",
       "      <td>0.0</td>\n",
       "    </tr>\n",
       "    <tr>\n",
       "      <th>Firefighter/Rescuer III</th>\n",
       "      <td>0.0</td>\n",
       "      <td>0.0</td>\n",
       "      <td>1.0</td>\n",
       "      <td>0.0</td>\n",
       "      <td>0.0</td>\n",
       "      <td>0.0</td>\n",
       "      <td>0.0</td>\n",
       "      <td>0.0</td>\n",
       "      <td>0.0</td>\n",
       "      <td>0.0</td>\n",
       "    </tr>\n",
       "    <tr>\n",
       "      <th>Police Aide</th>\n",
       "      <td>0.0</td>\n",
       "      <td>0.0</td>\n",
       "      <td>0.0</td>\n",
       "      <td>0.0</td>\n",
       "      <td>0.0</td>\n",
       "      <td>0.0</td>\n",
       "      <td>1.0</td>\n",
       "      <td>0.0</td>\n",
       "      <td>0.0</td>\n",
       "      <td>0.0</td>\n",
       "    </tr>\n",
       "  </tbody>\n",
       "</table>\n",
       "</div>"
      ],
      "text/plain": [
       "                                0    1    2    3    4    5    6    7    8    9\n",
       "Office Services Coordinator   0.0  0.0  0.0  0.0  1.0  0.0  0.0  0.0  0.0  0.0\n",
       "Master Police Officer         0.0  0.0  0.0  1.0  0.0  0.0  0.0  0.0  0.0  0.0\n",
       "Social Worker IV              0.0  0.0  0.0  0.0  0.0  0.0  0.0  0.0  0.0  1.0\n",
       "Resident Supervisor II        0.0  0.0  0.0  0.0  0.0  0.0  0.0  0.0  1.0  0.0\n",
       "Planning Specialist III       0.0  0.0  0.0  0.0  0.0  1.0  0.0  0.0  0.0  0.0\n",
       "Police Officer III            0.0  0.0  0.0  0.0  0.0  0.0  0.0  1.0  0.0  0.0\n",
       "Accountant/Auditor II         1.0  0.0  0.0  0.0  0.0  0.0  0.0  0.0  0.0  0.0\n",
       "Administrative Specialist II  0.0  1.0  0.0  0.0  0.0  0.0  0.0  0.0  0.0  0.0\n",
       "Firefighter/Rescuer III       0.0  0.0  1.0  0.0  0.0  0.0  0.0  0.0  0.0  0.0\n",
       "Police Aide                   0.0  0.0  0.0  0.0  0.0  0.0  1.0  0.0  0.0  0.0"
      ]
     },
     "execution_count": 28,
     "metadata": {},
     "output_type": "execute_result"
    }
   ],
   "source": [
    "onehot_df = pd.DataFrame(onehot, index=sample.ravel())\n",
    "onehot_df"
   ]
  },
  {
   "cell_type": "markdown",
   "id": "388cdde2",
   "metadata": {
    "cell_id": "00012-25688db1-695b-4ed4-a9ec-5af1e3ab80fb",
    "deepnote_cell_type": "markdown"
   },
   "source": [
    "## Similarity Encoding"
   ]
  },
  {
   "cell_type": "code",
   "execution_count": 29,
   "id": "964b8cb3",
   "metadata": {
    "ExecuteTime": {
     "end_time": "2021-05-02T23:10:30.762839Z",
     "start_time": "2021-05-02T23:10:30.754344Z"
    },
    "cell_id": "00013-9a0209f2-4e5c-430b-a4f5-894cd41b9402",
    "deepnote_cell_type": "code",
    "deepnote_to_be_reexecuted": false,
    "execution_millis": 19,
    "execution_start": 1634005719189,
    "source_hash": "c6a3b891"
   },
   "outputs": [
    {
     "data": {
      "text/plain": [
       "array([[0.05882353, 0.03125   , 0.02739726, 0.19008264, 1.        ,\n",
       "        0.01351351, 0.05555556, 0.20535714, 0.08088235, 0.032     ],\n",
       "       [0.008     , 0.02083333, 0.056     , 1.        , 0.19008264,\n",
       "        0.02325581, 0.23076923, 0.56      , 0.01574803, 0.02777778],\n",
       "       [0.03738318, 0.07317073, 0.05405405, 0.02777778, 0.032     ,\n",
       "        0.0733945 , 0.        , 0.0625    , 0.06542056, 1.        ],\n",
       "       [0.11206897, 0.07142857, 0.09756098, 0.01574803, 0.08088235,\n",
       "        0.07142857, 0.03125   , 0.08108108, 1.        , 0.06542056],\n",
       "       [0.04761905, 0.3539823 , 0.06976744, 0.02325581, 0.01351351,\n",
       "        1.        , 0.02      , 0.09821429, 0.07142857, 0.0733945 ],\n",
       "       [0.0733945 , 0.05343511, 0.14953271, 0.56      , 0.20535714,\n",
       "        0.09821429, 0.26086957, 1.        , 0.08108108, 0.0625    ],\n",
       "       [1.        , 0.05      , 0.06451613, 0.008     , 0.05882353,\n",
       "        0.04761905, 0.01052632, 0.0733945 , 0.11206897, 0.03738318],\n",
       "       [0.05      , 1.        , 0.03378378, 0.02083333, 0.03125   ,\n",
       "        0.3539823 , 0.02631579, 0.05343511, 0.07142857, 0.07317073],\n",
       "       [0.06451613, 0.03378378, 1.        , 0.056     , 0.02739726,\n",
       "        0.06976744, 0.        , 0.14953271, 0.09756098, 0.05405405],\n",
       "       [0.01052632, 0.02631579, 0.        , 0.23076923, 0.05555556,\n",
       "        0.02      , 1.        , 0.26086957, 0.03125   , 0.        ]])"
      ]
     },
     "execution_count": 29,
     "metadata": {},
     "output_type": "execute_result"
    }
   ],
   "source": [
    "enc = SimilarityEncoder(similarity=\"ngram\")\n",
    "X_enc = enc.fit_transform(sample.reshape(-1, 1))\n",
    "X_enc"
   ]
  },
  {
   "cell_type": "code",
   "execution_count": 30,
   "id": "4069c9a2",
   "metadata": {
    "ExecuteTime": {
     "end_time": "2021-05-02T23:10:30.765123Z",
     "start_time": "2021-05-02T23:10:30.763586Z"
    },
    "cell_id": "00014-7de3a034-e387-4d2e-88e9-59deaf1109d8",
    "deepnote_cell_type": "code",
    "deepnote_to_be_reexecuted": false,
    "execution_millis": 2,
    "execution_start": 1634005721311,
    "source_hash": "92125e66"
   },
   "outputs": [],
   "source": [
    "from sklearn.preprocessing import normalize"
   ]
  },
  {
   "cell_type": "code",
   "execution_count": 31,
   "id": "1aa7eaaa",
   "metadata": {
    "ExecuteTime": {
     "end_time": "2021-05-02T23:10:30.769022Z",
     "start_time": "2021-05-02T23:10:30.765947Z"
    },
    "cell_id": "00015-5a55f840-e52c-4c26-8020-f86f170bc915",
    "deepnote_cell_type": "code",
    "deepnote_to_be_reexecuted": false,
    "execution_millis": 3,
    "execution_start": 1634005721767,
    "source_hash": "669861b8"
   },
   "outputs": [],
   "source": [
    "def plot_similarity(labels, features):\n",
    "    normalized_features = normalize(features)\n",
    "    corr = np.inner(normalized_features, normalized_features)\n",
    "    sns.set(font_scale=1.2)\n",
    "    g = sns.heatmap(\n",
    "        corr,\n",
    "        xticklabels=labels,\n",
    "        yticklabels=labels,\n",
    "        vmin=0,\n",
    "        vmax=1,\n",
    "        cmap=\"YlOrRd\",\n",
    "        annot=True,\n",
    "        annot_kws={\"size\": 10},\n",
    "    )\n",
    "    g.set_xticklabels(labels, rotation=90)\n",
    "    g.set_title(\"Similarity\")\n",
    "\n",
    "\n",
    "def encode_and_plot(labels):\n",
    "    enc = SimilarityEncoder(similarity=\"ngram\")\n",
    "    X_enc = enc.fit_transform(labels.reshape(-1, 1))\n",
    "    plot_similarity(labels, X_enc)"
   ]
  },
  {
   "cell_type": "code",
   "execution_count": 32,
   "id": "e9061b1b",
   "metadata": {
    "ExecuteTime": {
     "end_time": "2021-05-02T23:10:31.222503Z",
     "start_time": "2021-05-02T23:10:30.769900Z"
    },
    "cell_id": "00016-960fd1dd-baca-4585-a796-f116c4642fbc",
    "deepnote_cell_type": "code",
    "deepnote_to_be_reexecuted": false,
    "execution_millis": 1282,
    "execution_start": 1634005723592,
    "source_hash": "923cc1db"
   },
   "outputs": [
    {
     "data": {
      "image/png": "[encoded data removed]",
      "text/plain": [
       "<Figure size 432x288 with 2 Axes>"
      ]
     },
     "metadata": {
      "needs_background": "light"
     },
     "output_type": "display_data"
    }
   ],
   "source": [
    "encode_and_plot(sample)"
   ]
  },
  {
   "cell_type": "markdown",
   "id": "84e763fc",
   "metadata": {
    "cell_id": "00017-e48ed98c-6d23-410d-94ee-0942d1e7a301",
    "deepnote_cell_type": "markdown"
   },
   "source": [
    "# One-hot Encoding vs Similarity Encoding"
   ]
  },
  {
   "cell_type": "code",
   "execution_count": 33,
   "id": "6489382f",
   "metadata": {
    "ExecuteTime": {
     "end_time": "2021-05-02T23:10:31.226829Z",
     "start_time": "2021-05-02T23:10:31.223487Z"
    },
    "cell_id": "00018-787bc39f-aa77-4720-a19b-8aeff3d4e6f8",
    "deepnote_cell_type": "code",
    "deepnote_to_be_reexecuted": false,
    "execution_millis": 15,
    "execution_start": 1634005726108,
    "source_hash": "382d56a4"
   },
   "outputs": [],
   "source": [
    "from sklearn.preprocessing import FunctionTransformer, StandardScaler\n",
    "from sklearn.compose import ColumnTransformer\n",
    "from sklearn.pipeline import Pipeline\n",
    "from sklearn.model_selection import KFold, cross_val_score\n",
    "from sklearn.linear_model import RidgeCV"
   ]
  },
  {
   "cell_type": "code",
   "execution_count": 34,
   "id": "8819c1a0",
   "metadata": {
    "ExecuteTime": {
     "end_time": "2021-05-02T23:10:31.231019Z",
     "start_time": "2021-05-02T23:10:31.227670Z"
    },
    "cell_id": "00019-aa47f5fe-53ce-41da-bdef-1fe4688131df",
    "deepnote_cell_type": "code",
    "deepnote_to_be_reexecuted": false,
    "execution_millis": 3,
    "execution_start": 1634005726644,
    "source_hash": "4b3fbead"
   },
   "outputs": [],
   "source": [
    "y = df[\"Current Annual Salary\"].values"
   ]
  },
  {
   "cell_type": "code",
   "execution_count": 35,
   "id": "febfe242",
   "metadata": {
    "ExecuteTime": {
     "end_time": "2021-05-02T23:10:31.234341Z",
     "start_time": "2021-05-02T23:10:31.231985Z"
    },
    "cell_id": "00020-5f0c8f00-27bc-4fc0-b659-37d9d55ae5f8",
    "deepnote_cell_type": "code",
    "deepnote_to_be_reexecuted": false,
    "execution_millis": 1,
    "execution_start": 1634005727046,
    "source_hash": "586f264a"
   },
   "outputs": [],
   "source": [
    "clean_columns = {\n",
    "    \"gender\": \"one-hot\",\n",
    "    \"department_name\": \"one-hot\",\n",
    "    \"assignment_category\": \"one-hot\",\n",
    "    \"Year First Hired\": \"numerical\",\n",
    "}"
   ]
  },
  {
   "cell_type": "code",
   "execution_count": 36,
   "id": "a44ef646",
   "metadata": {
    "ExecuteTime": {
     "end_time": "2021-05-02T23:10:31.237897Z",
     "start_time": "2021-05-02T23:10:31.235314Z"
    },
    "cell_id": "00021-a3f08138-60cb-4207-8f1c-f3414526e924",
    "deepnote_cell_type": "code",
    "deepnote_to_be_reexecuted": false,
    "execution_millis": 5,
    "execution_start": 1634005727628,
    "source_hash": "5d49104d"
   },
   "outputs": [],
   "source": [
    "encoding_methods = [\"one-hot\", \"similarity\"]"
   ]
  },
  {
   "cell_type": "code",
   "execution_count": 37,
   "id": "bc654e22",
   "metadata": {
    "ExecuteTime": {
     "end_time": "2021-05-02T23:10:31.241776Z",
     "start_time": "2021-05-02T23:10:31.238795Z"
    },
    "cell_id": "00022-0c5d72c7-d59d-40e1-bd41-79f63aceb793",
    "deepnote_cell_type": "code",
    "deepnote_to_be_reexecuted": false,
    "execution_millis": 4,
    "execution_start": 1634005728112,
    "source_hash": "1774297d"
   },
   "outputs": [],
   "source": [
    "encoders_dict = {\n",
    "    \"one-hot\": OneHotEncoder(handle_unknown=\"ignore\", sparse=False),\n",
    "    \"similarity\": SimilarityEncoder(similarity=\"ngram\"),\n",
    "    \"numerical\": FunctionTransformer(None),\n",
    "}"
   ]
  },
  {
   "cell_type": "code",
   "execution_count": 38,
   "id": "c66d0662",
   "metadata": {
    "ExecuteTime": {
     "end_time": "2021-05-02T23:10:31.246502Z",
     "start_time": "2021-05-02T23:10:31.243055Z"
    },
    "cell_id": "00023-e0933264-619d-4da0-94ca-ca5cd22f272c",
    "deepnote_cell_type": "code",
    "deepnote_to_be_reexecuted": false,
    "execution_millis": 5,
    "execution_start": 1634005731789,
    "source_hash": "935bcca0"
   },
   "outputs": [],
   "source": [
    "def make_pipeline(encoding_method):\n",
    "    # static transformers from the other columns\n",
    "    transformers = [\n",
    "        (enc + \"_\" + col, encoders_dict[enc], [col])\n",
    "        for col, enc in clean_columns.items()\n",
    "    ]\n",
    "    # adding the encoded column\n",
    "    transformers += [(encoding_method, encoders_dict[encoding_method], [dirty_column])]\n",
    "    pipeline = Pipeline(\n",
    "        [\n",
    "            # Use ColumnTransformer to combine the features\n",
    "            (\"union\", ColumnTransformer(transformers=transformers, remainder=\"drop\")),\n",
    "            (\"scaler\", StandardScaler(with_mean=False)),\n",
    "            (\"clf\", RidgeCV()),\n",
    "        ]\n",
    "    )\n",
    "    return pipeline"
   ]
  },
  {
   "cell_type": "code",
   "execution_count": 39,
   "id": "b0a71b3f",
   "metadata": {
    "ExecuteTime": {
     "end_time": "2021-05-02T23:10:36.330364Z",
     "start_time": "2021-05-02T23:10:31.247314Z"
    },
    "cell_id": "00024-0d7a79e2-3976-4826-adbe-50c6ca92e146",
    "deepnote_cell_type": "code",
    "deepnote_to_be_reexecuted": false,
    "execution_millis": 11677,
    "execution_start": 1634005732609,
    "source_hash": "6faf09f3"
   },
   "outputs": [
    {
     "name": "stdout",
     "output_type": "stream",
     "text": [
      "one-hot encoding\n",
      "r2 score:  mean: 0.856; std: 0.034\n",
      "\n",
      "similarity encoding\n",
      "r2 score:  mean: 0.915; std: 0.012\n",
      "\n"
     ]
    }
   ],
   "source": [
    "all_scores = dict()\n",
    "\n",
    "cv = KFold(n_splits=5, random_state=12, shuffle=True)\n",
    "scoring = \"r2\"\n",
    "for method in encoding_methods:\n",
    "    pipeline = make_pipeline(method)\n",
    "    scores = cross_val_score(pipeline, df, y, cv=cv, scoring=scoring)\n",
    "    print(f\"{method} encoding\")\n",
    "    print(f\"{scoring} score:  mean: {np.mean(scores):.3f}; std: {np.std(scores):.3f}\\n\")\n",
    "    all_scores[method] = scores"
   ]
  },
  {
   "cell_type": "markdown",
   "id": "5e3b2b48",
   "metadata": {
    "created_in_deepnote_cell": true,
    "deepnote_cell_type": "markdown",
    "tags": []
   },
   "source": [
    "<a style='text-decoration:none;line-height:16px;display:flex;color:#5B5B62;padding:10px;justify-content:end;' href='https://deepnote.com?utm_source=created-in-deepnote-cell&projectId=87197226-98be-42b2-8527-389082831299' target=\"_blank\">\n",
    "<img alt='Created in deepnote.com' style='display:inline;max-height:16px;margin:0px;margin-right:7.5px;' src='data:image/svg+xml;base64,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' > </img>\n",
    "Created in <span style='font-weight:600;margin-left:4px;'>Deepnote</span></a>"
   ]
  }
 ],
 "metadata": {
  "deepnote": {},
  "deepnote_execution_queue": [],
  "deepnote_notebook_id": "1fe3e4d5-93bb-409e-bbeb-318096ca7076",
  "kernelspec": {
   "display_name": "py39",
   "language": "python",
   "name": "py39"
  },
  "language_info": {
   "codemirror_mode": {
    "name": "ipython",
    "version": 3
   },
   "file_extension": ".py",
   "mimetype": "text/x-python",
   "name": "python",
   "nbconvert_exporter": "python",
   "pygments_lexer": "ipython3",
   "version": "3.9.12"
  },
  "toc": {
   "base_numbering": 1,
   "nav_menu": {},
   "number_sections": true,
   "sideBar": true,
   "skip_h1_title": false,
   "title_cell": "Table of Contents",
   "title_sidebar": "Contents",
   "toc_cell": false,
   "toc_position": {},
   "toc_section_display": true,
   "toc_window_display": false
  }
 },
 "nbformat": 4,
 "nbformat_minor": 5
}
