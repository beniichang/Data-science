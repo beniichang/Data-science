{
 "cells": [
  {
   "cell_type": "markdown",
   "id": "9d5fc0b7",
   "metadata": {},
   "source": [
    "#### create a program to download stock data from yahoo"
   ]
  },
  {
   "cell_type": "code",
   "execution_count": 2,
   "id": "0bb6284c",
   "metadata": {},
   "outputs": [],
   "source": [
    "import yfinance as yf\n",
    "import numpy as np\n",
    "import pandas as pd\n",
    "import time\n",
    "from datetime import datetime, timedelta"
   ]
  },
  {
   "cell_type": "code",
   "execution_count": 3,
   "id": "6f4705a5",
   "metadata": {
    "scrolled": true
   },
   "outputs": [
    {
     "data": {
      "text/plain": [
       "('2022-03-25', '2022-04-24')"
      ]
     },
     "execution_count": 3,
     "metadata": {},
     "output_type": "execute_result"
    }
   ],
   "source": [
    "# define dates\n",
    "today = datetime.today()\n",
    "thirty_days_ago = today - timedelta(days=30)\n",
    "\n",
    "end = today.strftime(\"%Y-%m-%d\")\n",
    "st = thirty_days_ago.strftime(\"%Y-%m-%d\")\n",
    "\n",
    "st, end"
   ]
  },
  {
   "cell_type": "code",
   "execution_count": 4,
   "id": "64ce8ce7",
   "metadata": {},
   "outputs": [],
   "source": [
    "import requests\n",
    "import pandas as pd\n",
    "\n",
    "headers = {\n",
    "    'authority': 'api.nasdaq.com',\n",
    "    'accept': 'application/json, text/plain, */*',\n",
    "    'user-agent': 'Mozilla/5.0 (Windows NT 10.0; Win64; x64) AppleWebKit/537.36 (KHTML, like Gecko) Chrome/87.0.4280.141 Safari/537.36',\n",
    "    'origin': 'https://www.nasdaq.com',\n",
    "    'sec-fetch-site': 'same-site',\n",
    "    'sec-fetch-mode': 'cors',\n",
    "    'sec-fetch-dest': 'empty',\n",
    "    'referer': 'https://www.nasdaq.com/',\n",
    "    'accept-language': 'en-US,en;q=0.9',\n",
    "}\n",
    "\n",
    "params = (\n",
    "    ('tableonly', 'true'),\n",
    "    ('limit', '25'),\n",
    "    ('offset', '0'),\n",
    "    ('download', 'true'),\n",
    ")\n",
    "\n",
    "r = requests.get('https://api.nasdaq.com/api/screener/stocks', headers=headers, params=params)\n",
    "data = r.json()['data']\n",
    "df = pd.DataFrame(data['rows'], columns=data['headers'])"
   ]
  },
  {
   "cell_type": "code",
   "execution_count": 7,
   "id": "0d2bcdee",
   "metadata": {
    "scrolled": true
   },
   "outputs": [
    {
     "data": {
      "text/html": [
       "<div>\n",
       "<style scoped>\n",
       "    .dataframe tbody tr th:only-of-type {\n",
       "        vertical-align: middle;\n",
       "    }\n",
       "\n",
       "    .dataframe tbody tr th {\n",
       "        vertical-align: top;\n",
       "    }\n",
       "\n",
       "    .dataframe thead th {\n",
       "        text-align: right;\n",
       "    }\n",
       "</style>\n",
       "<table border=\"1\" class=\"dataframe\">\n",
       "  <thead>\n",
       "    <tr style=\"text-align: right;\">\n",
       "      <th></th>\n",
       "      <th>symbol</th>\n",
       "      <th>name</th>\n",
       "      <th>lastsale</th>\n",
       "      <th>netchange</th>\n",
       "      <th>pctchange</th>\n",
       "      <th>marketCap</th>\n",
       "    </tr>\n",
       "  </thead>\n",
       "  <tbody>\n",
       "    <tr>\n",
       "      <th>0</th>\n",
       "      <td>A</td>\n",
       "      <td>Agilent Technologies Inc. Common Stock</td>\n",
       "      <td>$121.32</td>\n",
       "      <td>-3.97</td>\n",
       "      <td>-3.169%</td>\n",
       "      <td>36409754898.00</td>\n",
       "    </tr>\n",
       "    <tr>\n",
       "      <th>1</th>\n",
       "      <td>AA</td>\n",
       "      <td>Alcoa Corporation Common Stock</td>\n",
       "      <td>$67.37</td>\n",
       "      <td>-4.83</td>\n",
       "      <td>-6.69%</td>\n",
       "      <td>12424425321.00</td>\n",
       "    </tr>\n",
       "    <tr>\n",
       "      <th>2</th>\n",
       "      <td>AAC</td>\n",
       "      <td>Ares Acquisition Corporation Class A Ordinary ...</td>\n",
       "      <td>$9.83</td>\n",
       "      <td>-0.01</td>\n",
       "      <td>-0.102%</td>\n",
       "      <td>1228750000.00</td>\n",
       "    </tr>\n",
       "    <tr>\n",
       "      <th>3</th>\n",
       "      <td>AACG</td>\n",
       "      <td>ATA Creativity Global American Depositary Shares</td>\n",
       "      <td>$1.21</td>\n",
       "      <td>0.04</td>\n",
       "      <td>3.419%</td>\n",
       "      <td>37966073.00</td>\n",
       "    </tr>\n",
       "    <tr>\n",
       "      <th>4</th>\n",
       "      <td>AACI</td>\n",
       "      <td>Armada Acquisition Corp. I Common Stock</td>\n",
       "      <td>$9.85</td>\n",
       "      <td>0.00</td>\n",
       "      <td>0.00%</td>\n",
       "      <td>203988575.00</td>\n",
       "    </tr>\n",
       "  </tbody>\n",
       "</table>\n",
       "</div>"
      ],
      "text/plain": [
       "  symbol                                               name lastsale  \\\n",
       "0      A             Agilent Technologies Inc. Common Stock  $121.32   \n",
       "1     AA                    Alcoa Corporation Common Stock    $67.37   \n",
       "2    AAC  Ares Acquisition Corporation Class A Ordinary ...    $9.83   \n",
       "3   AACG   ATA Creativity Global American Depositary Shares    $1.21   \n",
       "4   AACI            Armada Acquisition Corp. I Common Stock    $9.85   \n",
       "\n",
       "  netchange pctchange       marketCap  \n",
       "0     -3.97   -3.169%  36409754898.00  \n",
       "1     -4.83    -6.69%  12424425321.00  \n",
       "2     -0.01   -0.102%   1228750000.00  \n",
       "3      0.04    3.419%     37966073.00  \n",
       "4      0.00     0.00%    203988575.00  "
      ]
     },
     "execution_count": 7,
     "metadata": {},
     "output_type": "execute_result"
    }
   ],
   "source": [
    "df.iloc[: , :6].head()"
   ]
  },
  {
   "cell_type": "code",
   "execution_count": 8,
   "id": "40b5d93f",
   "metadata": {
    "scrolled": true
   },
   "outputs": [
    {
     "data": {
      "text/plain": [
       "(8464, 12)"
      ]
     },
     "execution_count": 8,
     "metadata": {},
     "output_type": "execute_result"
    }
   ],
   "source": [
    "df.shape"
   ]
  },
  {
   "cell_type": "code",
   "execution_count": 10,
   "id": "4bace554",
   "metadata": {},
   "outputs": [
    {
     "data": {
      "text/plain": [
       "'C:\\\\Users\\\\adven\\\\OneDrive\\\\Documents\\\\Repos\\\\yfinance\\\\notebook'"
      ]
     },
     "execution_count": 10,
     "metadata": {},
     "output_type": "execute_result"
    }
   ],
   "source": [
    "# save a copy\n",
    "import os\n",
    "os.getcwd()"
   ]
  },
  {
   "cell_type": "code",
   "execution_count": 12,
   "id": "791e1867",
   "metadata": {},
   "outputs": [],
   "source": [
    "os.chdir(r'C:\\Users\\adven\\OneDrive\\Documents\\Repos\\yfinance\\data')"
   ]
  },
  {
   "cell_type": "code",
   "execution_count": 13,
   "id": "980e3e59",
   "metadata": {},
   "outputs": [
    {
     "data": {
      "text/plain": [
       "'C:\\\\Users\\\\adven\\\\OneDrive\\\\Documents\\\\Repos\\\\yfinance\\\\data'"
      ]
     },
     "execution_count": 13,
     "metadata": {},
     "output_type": "execute_result"
    }
   ],
   "source": [
    "os.getcwd()"
   ]
  },
  {
   "cell_type": "code",
   "execution_count": 15,
   "id": "338b46fc",
   "metadata": {},
   "outputs": [],
   "source": [
    "import pickle"
   ]
  },
  {
   "cell_type": "code",
   "execution_count": 16,
   "id": "12cd1b56",
   "metadata": {},
   "outputs": [],
   "source": [
    "pd.to_pickle(df, \"./all_tickers.pkl\")"
   ]
  }
 ],
 "metadata": {
  "kernelspec": {
   "display_name": "new",
   "language": "python",
   "name": "new"
  },
  "language_info": {
   "codemirror_mode": {
    "name": "ipython",
    "version": 3
   },
   "file_extension": ".py",
   "mimetype": "text/x-python",
   "name": "python",
   "nbconvert_exporter": "python",
   "pygments_lexer": "ipython3",
   "version": "3.8.10"
  }
 },
 "nbformat": 4,
 "nbformat_minor": 5
}
