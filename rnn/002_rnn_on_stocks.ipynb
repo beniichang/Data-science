{
 "cells": [
  {
   "cell_type": "code",
   "execution_count": 1,
   "id": "ecf96af9",
   "metadata": {},
   "outputs": [],
   "source": [
    "import numpy as np\n",
    "import pandas as pd"
   ]
  },
  {
   "cell_type": "code",
   "execution_count": 4,
   "id": "a1af958a",
   "metadata": {},
   "outputs": [],
   "source": [
    "#!pip install pandas-datareader"
   ]
  },
  {
   "cell_type": "code",
   "execution_count": 5,
   "id": "0993af82",
   "metadata": {},
   "outputs": [],
   "source": [
    "# data scrape package\n",
    "import pandas_datareader.data as web"
   ]
  },
  {
   "cell_type": "code",
   "execution_count": 6,
   "id": "6ac5e0cd",
   "metadata": {},
   "outputs": [],
   "source": [
    "# plotting package\n",
    "import matplotlib.pyplot as plt\n",
    "# scaling package\n",
    "from sklearn.preprocessing import MinMaxScaler"
   ]
  },
  {
   "cell_type": "code",
   "execution_count": 30,
   "id": "291424cf",
   "metadata": {},
   "outputs": [],
   "source": [
    "# keras network\n",
    "import tensorflow as tf\n",
    "from tensorflow import keras\n",
    "from tensorflow.keras import layers"
   ]
  },
  {
   "cell_type": "code",
   "execution_count": 8,
   "id": "41b81061",
   "metadata": {},
   "outputs": [],
   "source": [
    "# set random seed\n",
    "import random\n",
    "random.seed(2505)"
   ]
  },
  {
   "cell_type": "markdown",
   "id": "ecc84f77",
   "metadata": {},
   "source": [
    "#### get and clean data"
   ]
  },
  {
   "cell_type": "code",
   "execution_count": 9,
   "id": "682e6a27",
   "metadata": {},
   "outputs": [],
   "source": [
    "# daily data on gold\n",
    "tick = 'GC=f'\n",
    "gold = web.get_data_yahoo(tick, '12/20/2015', interval='d')"
   ]
  },
  {
   "cell_type": "code",
   "execution_count": 10,
   "id": "de8a9622",
   "metadata": {},
   "outputs": [
    {
     "data": {
      "text/html": [
       "<div>\n",
       "<style scoped>\n",
       "    .dataframe tbody tr th:only-of-type {\n",
       "        vertical-align: middle;\n",
       "    }\n",
       "\n",
       "    .dataframe tbody tr th {\n",
       "        vertical-align: top;\n",
       "    }\n",
       "\n",
       "    .dataframe thead th {\n",
       "        text-align: right;\n",
       "    }\n",
       "</style>\n",
       "<table border=\"1\" class=\"dataframe\">\n",
       "  <thead>\n",
       "    <tr style=\"text-align: right;\">\n",
       "      <th></th>\n",
       "      <th>High</th>\n",
       "      <th>Low</th>\n",
       "      <th>Open</th>\n",
       "      <th>Close</th>\n",
       "      <th>Volume</th>\n",
       "      <th>Adj Close</th>\n",
       "    </tr>\n",
       "    <tr>\n",
       "      <th>Date</th>\n",
       "      <th></th>\n",
       "      <th></th>\n",
       "      <th></th>\n",
       "      <th></th>\n",
       "      <th></th>\n",
       "      <th></th>\n",
       "    </tr>\n",
       "  </thead>\n",
       "  <tbody>\n",
       "    <tr>\n",
       "      <th>2015-12-21</th>\n",
       "      <td>1081.900024</td>\n",
       "      <td>1070.199951</td>\n",
       "      <td>1070.199951</td>\n",
       "      <td>1081.900024</td>\n",
       "      <td>26.0</td>\n",
       "      <td>1081.900024</td>\n",
       "    </tr>\n",
       "    <tr>\n",
       "      <th>2015-12-22</th>\n",
       "      <td>1078.599976</td>\n",
       "      <td>1073.800049</td>\n",
       "      <td>1078.599976</td>\n",
       "      <td>1074.800049</td>\n",
       "      <td>106.0</td>\n",
       "      <td>1074.800049</td>\n",
       "    </tr>\n",
       "    <tr>\n",
       "      <th>2015-12-23</th>\n",
       "      <td>1074.800049</td>\n",
       "      <td>1069.400024</td>\n",
       "      <td>1074.500000</td>\n",
       "      <td>1069.400024</td>\n",
       "      <td>202.0</td>\n",
       "      <td>1069.400024</td>\n",
       "    </tr>\n",
       "    <tr>\n",
       "      <th>2015-12-24</th>\n",
       "      <td>1077.800049</td>\n",
       "      <td>1073.500000</td>\n",
       "      <td>1074.300049</td>\n",
       "      <td>1077.199951</td>\n",
       "      <td>24.0</td>\n",
       "      <td>1077.199951</td>\n",
       "    </tr>\n",
       "    <tr>\n",
       "      <th>2015-12-28</th>\n",
       "      <td>1098.800049</td>\n",
       "      <td>1070.500000</td>\n",
       "      <td>1077.900024</td>\n",
       "      <td>1070.500000</td>\n",
       "      <td>361.0</td>\n",
       "      <td>1070.500000</td>\n",
       "    </tr>\n",
       "    <tr>\n",
       "      <th>...</th>\n",
       "      <td>...</td>\n",
       "      <td>...</td>\n",
       "      <td>...</td>\n",
       "      <td>...</td>\n",
       "      <td>...</td>\n",
       "      <td>...</td>\n",
       "    </tr>\n",
       "    <tr>\n",
       "      <th>2022-05-31</th>\n",
       "      <td>1862.099976</td>\n",
       "      <td>1832.800049</td>\n",
       "      <td>1850.300049</td>\n",
       "      <td>1842.699951</td>\n",
       "      <td>4073.0</td>\n",
       "      <td>1842.699951</td>\n",
       "    </tr>\n",
       "    <tr>\n",
       "      <th>2022-06-01</th>\n",
       "      <td>1847.900024</td>\n",
       "      <td>1825.300049</td>\n",
       "      <td>1831.000000</td>\n",
       "      <td>1843.300049</td>\n",
       "      <td>1623.0</td>\n",
       "      <td>1843.300049</td>\n",
       "    </tr>\n",
       "    <tr>\n",
       "      <th>2022-06-02</th>\n",
       "      <td>1868.699951</td>\n",
       "      <td>1842.099976</td>\n",
       "      <td>1845.400024</td>\n",
       "      <td>1866.500000</td>\n",
       "      <td>551.0</td>\n",
       "      <td>1866.500000</td>\n",
       "    </tr>\n",
       "    <tr>\n",
       "      <th>2022-06-03</th>\n",
       "      <td>1871.800049</td>\n",
       "      <td>1845.400024</td>\n",
       "      <td>1867.599976</td>\n",
       "      <td>1845.400024</td>\n",
       "      <td>551.0</td>\n",
       "      <td>1845.400024</td>\n",
       "    </tr>\n",
       "    <tr>\n",
       "      <th>2022-06-06</th>\n",
       "      <td>1856.500000</td>\n",
       "      <td>1849.000000</td>\n",
       "      <td>1849.000000</td>\n",
       "      <td>1856.599976</td>\n",
       "      <td>4965.0</td>\n",
       "      <td>1856.599976</td>\n",
       "    </tr>\n",
       "  </tbody>\n",
       "</table>\n",
       "<p>1624 rows × 6 columns</p>\n",
       "</div>"
      ],
      "text/plain": [
       "                   High          Low         Open        Close  Volume  \\\n",
       "Date                                                                     \n",
       "2015-12-21  1081.900024  1070.199951  1070.199951  1081.900024    26.0   \n",
       "2015-12-22  1078.599976  1073.800049  1078.599976  1074.800049   106.0   \n",
       "2015-12-23  1074.800049  1069.400024  1074.500000  1069.400024   202.0   \n",
       "2015-12-24  1077.800049  1073.500000  1074.300049  1077.199951    24.0   \n",
       "2015-12-28  1098.800049  1070.500000  1077.900024  1070.500000   361.0   \n",
       "...                 ...          ...          ...          ...     ...   \n",
       "2022-05-31  1862.099976  1832.800049  1850.300049  1842.699951  4073.0   \n",
       "2022-06-01  1847.900024  1825.300049  1831.000000  1843.300049  1623.0   \n",
       "2022-06-02  1868.699951  1842.099976  1845.400024  1866.500000   551.0   \n",
       "2022-06-03  1871.800049  1845.400024  1867.599976  1845.400024   551.0   \n",
       "2022-06-06  1856.500000  1849.000000  1849.000000  1856.599976  4965.0   \n",
       "\n",
       "              Adj Close  \n",
       "Date                     \n",
       "2015-12-21  1081.900024  \n",
       "2015-12-22  1074.800049  \n",
       "2015-12-23  1069.400024  \n",
       "2015-12-24  1077.199951  \n",
       "2015-12-28  1070.500000  \n",
       "...                 ...  \n",
       "2022-05-31  1842.699951  \n",
       "2022-06-01  1843.300049  \n",
       "2022-06-02  1866.500000  \n",
       "2022-06-03  1845.400024  \n",
       "2022-06-06  1856.599976  \n",
       "\n",
       "[1624 rows x 6 columns]"
      ]
     },
     "execution_count": 10,
     "metadata": {},
     "output_type": "execute_result"
    }
   ],
   "source": [
    "gold"
   ]
  },
  {
   "cell_type": "code",
   "execution_count": 11,
   "id": "65d9f7f4",
   "metadata": {
    "scrolled": true
   },
   "outputs": [
    {
     "data": {
      "text/plain": [
       "(1624, 6)"
      ]
     },
     "execution_count": 11,
     "metadata": {},
     "output_type": "execute_result"
    }
   ],
   "source": [
    "gold.shape"
   ]
  },
  {
   "cell_type": "code",
   "execution_count": 12,
   "id": "fa5c3db2",
   "metadata": {
    "scrolled": true
   },
   "outputs": [
    {
     "data": {
      "text/plain": [
       "[<matplotlib.lines.Line2D at 0x1d89f844640>]"
      ]
     },
     "execution_count": 12,
     "metadata": {},
     "output_type": "execute_result"
    },
    {
     "data": {
      "image/png": "[encoded data removed]",
      "text/plain": [
       "<Figure size 432x288 with 1 Axes>"
      ]
     },
     "metadata": {
      "needs_background": "light"
     },
     "output_type": "display_data"
    }
   ],
   "source": [
    "plt.plot(gold['Adj Close'])"
   ]
  },
  {
   "cell_type": "code",
   "execution_count": 13,
   "id": "573af828",
   "metadata": {},
   "outputs": [],
   "source": [
    "returns = gold['Adj Close'].pct_change()\n",
    "column_names = gold.columns"
   ]
  },
  {
   "cell_type": "code",
   "execution_count": 14,
   "id": "68b32e98",
   "metadata": {},
   "outputs": [
    {
     "data": {
      "text/plain": [
       "(1624, 6)"
      ]
     },
     "execution_count": 14,
     "metadata": {},
     "output_type": "execute_result"
    }
   ],
   "source": [
    "x = gold.values # returns a numpy array\n",
    "x.shape"
   ]
  },
  {
   "cell_type": "code",
   "execution_count": 18,
   "id": "8e5d0f7c",
   "metadata": {
    "scrolled": true
   },
   "outputs": [
    {
     "data": {
      "text/plain": [
       "array([[1081.90002441, 1070.19995117, 1070.19995117, 1081.90002441,\n",
       "          26.        , 1081.90002441],\n",
       "       [1078.59997559, 1073.80004883, 1078.59997559, 1074.80004883,\n",
       "         106.        , 1074.80004883],\n",
       "       [1074.80004883, 1069.40002441, 1074.5       , 1069.40002441,\n",
       "         202.        , 1069.40002441],\n",
       "       [1077.80004883, 1073.5       , 1074.30004883, 1077.19995117,\n",
       "          24.        , 1077.19995117]])"
      ]
     },
     "execution_count": 18,
     "metadata": {},
     "output_type": "execute_result"
    }
   ],
   "source": [
    "x[:4,:]"
   ]
  },
  {
   "cell_type": "code",
   "execution_count": 19,
   "id": "2cde95da",
   "metadata": {},
   "outputs": [],
   "source": [
    "min_max_scaler = MinMaxScaler()\n",
    "x_scaled = min_max_scaler.fit_transform(x)\n",
    "df = pd.DataFrame(x_scaled)"
   ]
  },
  {
   "cell_type": "code",
   "execution_count": 20,
   "id": "3a494aaf",
   "metadata": {
    "scrolled": true
   },
   "outputs": [
    {
     "data": {
      "text/html": [
       "<div>\n",
       "<style scoped>\n",
       "    .dataframe tbody tr th:only-of-type {\n",
       "        vertical-align: middle;\n",
       "    }\n",
       "\n",
       "    .dataframe tbody tr th {\n",
       "        vertical-align: top;\n",
       "    }\n",
       "\n",
       "    .dataframe thead th {\n",
       "        text-align: right;\n",
       "    }\n",
       "</style>\n",
       "<table border=\"1\" class=\"dataframe\">\n",
       "  <thead>\n",
       "    <tr style=\"text-align: right;\">\n",
       "      <th></th>\n",
       "      <th>0</th>\n",
       "      <th>1</th>\n",
       "      <th>2</th>\n",
       "      <th>3</th>\n",
       "      <th>4</th>\n",
       "      <th>5</th>\n",
       "    </tr>\n",
       "  </thead>\n",
       "  <tbody>\n",
       "    <tr>\n",
       "      <th>0</th>\n",
       "      <td>0.019703</td>\n",
       "      <td>0.011920</td>\n",
       "      <td>0.008369</td>\n",
       "      <td>0.021989</td>\n",
       "      <td>0.000067</td>\n",
       "      <td>0.021989</td>\n",
       "    </tr>\n",
       "    <tr>\n",
       "      <th>1</th>\n",
       "      <td>0.016436</td>\n",
       "      <td>0.015588</td>\n",
       "      <td>0.016840</td>\n",
       "      <td>0.014828</td>\n",
       "      <td>0.000274</td>\n",
       "      <td>0.014828</td>\n",
       "    </tr>\n",
       "    <tr>\n",
       "      <th>2</th>\n",
       "      <td>0.012673</td>\n",
       "      <td>0.011105</td>\n",
       "      <td>0.012705</td>\n",
       "      <td>0.009381</td>\n",
       "      <td>0.000523</td>\n",
       "      <td>0.009381</td>\n",
       "    </tr>\n",
       "    <tr>\n",
       "      <th>3</th>\n",
       "      <td>0.015644</td>\n",
       "      <td>0.015283</td>\n",
       "      <td>0.012504</td>\n",
       "      <td>0.017248</td>\n",
       "      <td>0.000062</td>\n",
       "      <td>0.017248</td>\n",
       "    </tr>\n",
       "    <tr>\n",
       "      <th>4</th>\n",
       "      <td>0.036436</td>\n",
       "      <td>0.012226</td>\n",
       "      <td>0.016134</td>\n",
       "      <td>0.010490</td>\n",
       "      <td>0.000934</td>\n",
       "      <td>0.010490</td>\n",
       "    </tr>\n",
       "  </tbody>\n",
       "</table>\n",
       "</div>"
      ],
      "text/plain": [
       "          0         1         2         3         4         5\n",
       "0  0.019703  0.011920  0.008369  0.021989  0.000067  0.021989\n",
       "1  0.016436  0.015588  0.016840  0.014828  0.000274  0.014828\n",
       "2  0.012673  0.011105  0.012705  0.009381  0.000523  0.009381\n",
       "3  0.015644  0.015283  0.012504  0.017248  0.000062  0.017248\n",
       "4  0.036436  0.012226  0.016134  0.010490  0.000934  0.010490"
      ]
     },
     "execution_count": 20,
     "metadata": {},
     "output_type": "execute_result"
    }
   ],
   "source": [
    "pct_c_gold = df\n",
    "pct_c_gold.head()"
   ]
  },
  {
   "cell_type": "code",
   "execution_count": 21,
   "id": "5e9230eb",
   "metadata": {
    "scrolled": true
   },
   "outputs": [
    {
     "data": {
      "text/html": [
       "<div>\n",
       "<style scoped>\n",
       "    .dataframe tbody tr th:only-of-type {\n",
       "        vertical-align: middle;\n",
       "    }\n",
       "\n",
       "    .dataframe tbody tr th {\n",
       "        vertical-align: top;\n",
       "    }\n",
       "\n",
       "    .dataframe thead th {\n",
       "        text-align: right;\n",
       "    }\n",
       "</style>\n",
       "<table border=\"1\" class=\"dataframe\">\n",
       "  <thead>\n",
       "    <tr style=\"text-align: right;\">\n",
       "      <th></th>\n",
       "      <th>High</th>\n",
       "      <th>Low</th>\n",
       "      <th>Open</th>\n",
       "      <th>Close</th>\n",
       "      <th>Volume</th>\n",
       "      <th>Adj Close</th>\n",
       "    </tr>\n",
       "  </thead>\n",
       "  <tbody>\n",
       "    <tr>\n",
       "      <th>0</th>\n",
       "      <td>0.019703</td>\n",
       "      <td>0.011920</td>\n",
       "      <td>0.008369</td>\n",
       "      <td>0.021989</td>\n",
       "      <td>0.000067</td>\n",
       "      <td>0.021989</td>\n",
       "    </tr>\n",
       "    <tr>\n",
       "      <th>1</th>\n",
       "      <td>0.016436</td>\n",
       "      <td>0.015588</td>\n",
       "      <td>0.016840</td>\n",
       "      <td>0.014828</td>\n",
       "      <td>0.000274</td>\n",
       "      <td>0.014828</td>\n",
       "    </tr>\n",
       "    <tr>\n",
       "      <th>2</th>\n",
       "      <td>0.012673</td>\n",
       "      <td>0.011105</td>\n",
       "      <td>0.012705</td>\n",
       "      <td>0.009381</td>\n",
       "      <td>0.000523</td>\n",
       "      <td>0.009381</td>\n",
       "    </tr>\n",
       "    <tr>\n",
       "      <th>3</th>\n",
       "      <td>0.015644</td>\n",
       "      <td>0.015283</td>\n",
       "      <td>0.012504</td>\n",
       "      <td>0.017248</td>\n",
       "      <td>0.000062</td>\n",
       "      <td>0.017248</td>\n",
       "    </tr>\n",
       "    <tr>\n",
       "      <th>4</th>\n",
       "      <td>0.036436</td>\n",
       "      <td>0.012226</td>\n",
       "      <td>0.016134</td>\n",
       "      <td>0.010490</td>\n",
       "      <td>0.000934</td>\n",
       "      <td>0.010490</td>\n",
       "    </tr>\n",
       "  </tbody>\n",
       "</table>\n",
       "</div>"
      ],
      "text/plain": [
       "       High       Low      Open     Close    Volume  Adj Close\n",
       "0  0.019703  0.011920  0.008369  0.021989  0.000067   0.021989\n",
       "1  0.016436  0.015588  0.016840  0.014828  0.000274   0.014828\n",
       "2  0.012673  0.011105  0.012705  0.009381  0.000523   0.009381\n",
       "3  0.015644  0.015283  0.012504  0.017248  0.000062   0.017248\n",
       "4  0.036436  0.012226  0.016134  0.010490  0.000934   0.010490"
      ]
     },
     "execution_count": 21,
     "metadata": {},
     "output_type": "execute_result"
    }
   ],
   "source": [
    "pct_c_gold.columns = column_names\n",
    "pct_c_gold.head()"
   ]
  },
  {
   "cell_type": "markdown",
   "id": "1111ae99",
   "metadata": {},
   "source": [
    "### Univariate Forecasting RNN"
   ]
  },
  {
   "cell_type": "code",
   "execution_count": 22,
   "id": "cb74d024",
   "metadata": {
    "scrolled": false
   },
   "outputs": [
    {
     "data": {
      "text/plain": [
       "Date\n",
       "2015-12-21         NaN\n",
       "2015-12-22   -0.006563\n",
       "2015-12-23   -0.005024\n",
       "2015-12-24    0.007294\n",
       "2015-12-28   -0.006220\n",
       "                ...   \n",
       "2022-05-31   -0.004645\n",
       "2022-06-01    0.000326\n",
       "2022-06-02    0.012586\n",
       "2022-06-03   -0.011305\n",
       "2022-06-06    0.006069\n",
       "Name: Adj Close, Length: 1624, dtype: float64"
      ]
     },
     "execution_count": 22,
     "metadata": {},
     "output_type": "execute_result"
    }
   ],
   "source": [
    "returns"
   ]
  },
  {
   "cell_type": "code",
   "execution_count": 23,
   "id": "f6a4fa8c",
   "metadata": {
    "scrolled": true
   },
   "outputs": [
    {
     "data": {
      "text/plain": [
       "[<matplotlib.lines.Line2D at 0x1d89dcb27f0>]"
      ]
     },
     "execution_count": 23,
     "metadata": {},
     "output_type": "execute_result"
    },
    {
     "data": {
      "image/png": "[encoded data removed]",
      "text/plain": [
       "<Figure size 432x288 with 1 Axes>"
      ]
     },
     "metadata": {
      "needs_background": "light"
     },
     "output_type": "display_data"
    }
   ],
   "source": [
    "plt.plot(returns)"
   ]
  },
  {
   "cell_type": "code",
   "execution_count": 24,
   "id": "a8e892a6",
   "metadata": {
    "scrolled": true
   },
   "outputs": [
    {
     "data": {
      "text/plain": [
       "<AxesSubplot:>"
      ]
     },
     "execution_count": 24,
     "metadata": {},
     "output_type": "execute_result"
    },
    {
     "data": {
      "image/png": "[encoded data removed]",
      "text/plain": [
       "<Figure size 432x288 with 1 Axes>"
      ]
     },
     "metadata": {
      "needs_background": "light"
     },
     "output_type": "display_data"
    }
   ],
   "source": [
    "returns.hist()"
   ]
  },
  {
   "cell_type": "code",
   "execution_count": 25,
   "id": "7a3e88a4",
   "metadata": {},
   "outputs": [
    {
     "data": {
      "text/plain": [
       "array([[-0.00656251],\n",
       "       [-0.00502421],\n",
       "       [ 0.00729374],\n",
       "       ...,\n",
       "       [ 0.0125861 ],\n",
       "       [-0.01130457],\n",
       "       [ 0.00606912]])"
      ]
     },
     "execution_count": 25,
     "metadata": {},
     "output_type": "execute_result"
    }
   ],
   "source": [
    "# Flatten this matrix down\n",
    "npa = returns.values[1:].reshape(-1, 1)\n",
    "# python recognize what dimensions you need by using this parameter\n",
    "npa"
   ]
  },
  {
   "cell_type": "code",
   "execution_count": 26,
   "id": "4e025d37",
   "metadata": {},
   "outputs": [
    {
     "name": "stdout",
     "output_type": "stream",
     "text": [
      "1623\n"
     ]
    }
   ],
   "source": [
    "scale = MinMaxScaler(feature_range=(0,1)) # by default\n",
    "npa = scale.fit_transform(npa)\n",
    "print(len(npa))"
   ]
  },
  {
   "cell_type": "code",
   "execution_count": 27,
   "id": "8d13edfc",
   "metadata": {
    "scrolled": false
   },
   "outputs": [
    {
     "name": "stdout",
     "output_type": "stream",
     "text": [
      "Training data length is  10 :  [array([[0.39559946],\n",
      "       [0.40967815],\n",
      "       [0.52241392],\n",
      "       [0.39873611],\n",
      "       [0.51550642],\n",
      "       [0.30786687],\n",
      "       [0.4573878 ],\n",
      "       [0.58340846],\n",
      "       [0.48375329],\n",
      "       [0.57023212]])]\n",
      "Testing data length is  1 :  [0.5880932447278658]\n"
     ]
    }
   ],
   "source": [
    "# prepare data in desired form\n",
    "samples = 10 # number of samples from the past used for prediction\n",
    "steps = 1 # number of steps in the future to make prediction on\n",
    "X = []\n",
    "Y = []\n",
    "for i in range(npa.shape[0]-samples):\n",
    "    X.append(npa[i:i+samples]) # independent samples\n",
    "    Y.append(npa[i+samples][0]) # dependent samples\n",
    "print('Training data length is ', len(X[0:1][0]),': ', X[0:1])\n",
    "print('Testing data length is ', len(Y[0:1]),': ', Y[0:1])"
   ]
  },
  {
   "cell_type": "code",
   "execution_count": 28,
   "id": "2c5e6ac2",
   "metadata": {},
   "outputs": [
    {
     "name": "stdout",
     "output_type": "stream",
     "text": [
      "Dimensions of X (1613, 10, 1) Dimensions of Y (1613,)\n",
      "Threshold is 1452\n"
     ]
    }
   ],
   "source": [
    "# reshape data so that the inputs will be acceptable to the model\n",
    "# 15.33\n",
    "X = np.array(X)\n",
    "Y = np.array(Y)\n",
    "print('Dimensions of X', X.shape, 'Dimensions of Y', Y.shape)\n",
    "\n",
    "threshold = round(0.9*X.shape[0])\n",
    "print('Threshold is', threshold)"
   ]
  },
  {
   "cell_type": "code",
   "execution_count": 31,
   "id": "17c95761",
   "metadata": {
    "scrolled": true
   },
   "outputs": [
    {
     "name": "stdout",
     "output_type": "stream",
     "text": [
      "Model: \"sequential\"\n",
      "_________________________________________________________________\n",
      "Layer (type)                 Output Shape              Param #   \n",
      "=================================================================\n",
      "simple_rnn (SimpleRNN)       (None, 3)                 15        \n",
      "_________________________________________________________________\n",
      "dropout (Dropout)            (None, 3)                 0         \n",
      "=================================================================\n",
      "Total params: 15\n",
      "Trainable params: 15\n",
      "Non-trainable params: 0\n",
      "_________________________________________________________________\n"
     ]
    }
   ],
   "source": [
    "# build the RNN\n",
    "model = keras.Sequential()\n",
    "\n",
    "# Add a RNN layer with 3 units\n",
    "model.add(layers.SimpleRNN(3,\n",
    "                          activation = 'tanh',\n",
    "                          use_bias = True,\n",
    "                          input_shape=(X.shape[1],X.shape[2])))\n",
    "\n",
    "# add a dropout layer (penalizing more complex models) - prevents overfitting\n",
    "model.add(layers.Dropout(rate=0.2))\n",
    "\n",
    "# evaluating loss function of MSE using the adam optimizer\n",
    "model.compile(loss='mean_squared_error', optimizer='adam')\n",
    "\n",
    "# print out architecture\n",
    "model.summary()"
   ]
  },
  {
   "cell_type": "code",
   "execution_count": 32,
   "id": "1fea7357",
   "metadata": {
    "scrolled": false
   },
   "outputs": [
    {
     "name": "stdout",
     "output_type": "stream",
     "text": [
      "Epoch 1/100\n",
      "37/37 [==============================] - 1s 9ms/step - loss: 0.5107 - val_loss: 0.3150\n",
      "Epoch 2/100\n",
      "37/37 [==============================] - 0s 3ms/step - loss: 0.2801 - val_loss: 0.1550\n",
      "Epoch 3/100\n",
      "37/37 [==============================] - 0s 3ms/step - loss: 0.1604 - val_loss: 0.0967\n",
      "Epoch 4/100\n",
      "37/37 [==============================] - 0s 3ms/step - loss: 0.1124 - val_loss: 0.0707\n",
      "Epoch 5/100\n",
      "37/37 [==============================] - 0s 3ms/step - loss: 0.0852 - val_loss: 0.0576\n",
      "Epoch 6/100\n",
      "37/37 [==============================] - 0s 4ms/step - loss: 0.0771 - val_loss: 0.0496\n",
      "Epoch 7/100\n",
      "37/37 [==============================] - 0s 3ms/step - loss: 0.0743 - val_loss: 0.0445\n",
      "Epoch 8/100\n",
      "37/37 [==============================] - 0s 3ms/step - loss: 0.0697 - val_loss: 0.0407\n",
      "Epoch 9/100\n",
      "37/37 [==============================] - 0s 3ms/step - loss: 0.0661 - val_loss: 0.0370\n",
      "Epoch 10/100\n",
      "37/37 [==============================] - 0s 3ms/step - loss: 0.0674 - val_loss: 0.0345\n",
      "Epoch 11/100\n",
      "37/37 [==============================] - 0s 3ms/step - loss: 0.0635 - val_loss: 0.0323\n",
      "Epoch 12/100\n",
      "37/37 [==============================] - 0s 3ms/step - loss: 0.0628 - val_loss: 0.0307\n",
      "Epoch 13/100\n",
      "37/37 [==============================] - 0s 3ms/step - loss: 0.0622 - val_loss: 0.0293\n",
      "Epoch 14/100\n",
      "37/37 [==============================] - 0s 3ms/step - loss: 0.0628 - val_loss: 0.0279\n",
      "Epoch 15/100\n",
      "37/37 [==============================] - 0s 3ms/step - loss: 0.0592 - val_loss: 0.0269\n",
      "Epoch 16/100\n",
      "37/37 [==============================] - 0s 3ms/step - loss: 0.0596 - val_loss: 0.0261\n",
      "Epoch 17/100\n",
      "37/37 [==============================] - 0s 5ms/step - loss: 0.0595 - val_loss: 0.0258\n",
      "Epoch 18/100\n",
      "37/37 [==============================] - 0s 3ms/step - loss: 0.0610 - val_loss: 0.0255\n",
      "Epoch 19/100\n",
      "37/37 [==============================] - 0s 3ms/step - loss: 0.0609 - val_loss: 0.0249\n",
      "Epoch 20/100\n",
      "37/37 [==============================] - 0s 3ms/step - loss: 0.0572 - val_loss: 0.0247\n",
      "Epoch 21/100\n",
      "37/37 [==============================] - 0s 3ms/step - loss: 0.0598 - val_loss: 0.0241\n",
      "Epoch 22/100\n",
      "37/37 [==============================] - 0s 3ms/step - loss: 0.0587 - val_loss: 0.0237\n",
      "Epoch 23/100\n",
      "37/37 [==============================] - 0s 3ms/step - loss: 0.0592 - val_loss: 0.0238\n",
      "Epoch 24/100\n",
      "37/37 [==============================] - 0s 3ms/step - loss: 0.0605 - val_loss: 0.0237\n",
      "Epoch 25/100\n",
      "37/37 [==============================] - 0s 4ms/step - loss: 0.0596 - val_loss: 0.0236\n",
      "Epoch 26/100\n",
      "37/37 [==============================] - 0s 3ms/step - loss: 0.0587 - val_loss: 0.0235\n",
      "Epoch 27/100\n",
      "37/37 [==============================] - 0s 3ms/step - loss: 0.0575 - val_loss: 0.0234\n",
      "Epoch 28/100\n",
      "37/37 [==============================] - 0s 3ms/step - loss: 0.0591 - val_loss: 0.0231\n",
      "Epoch 29/100\n",
      "37/37 [==============================] - 0s 4ms/step - loss: 0.0586 - val_loss: 0.0229\n",
      "Epoch 30/100\n",
      "37/37 [==============================] - 0s 4ms/step - loss: 0.0604 - val_loss: 0.0231\n",
      "Epoch 31/100\n",
      "37/37 [==============================] - 0s 3ms/step - loss: 0.0550 - val_loss: 0.0227\n",
      "Epoch 32/100\n",
      "37/37 [==============================] - 0s 3ms/step - loss: 0.0594 - val_loss: 0.0227\n",
      "Epoch 33/100\n",
      "37/37 [==============================] - 0s 3ms/step - loss: 0.0571 - val_loss: 0.0220\n",
      "Epoch 34/100\n",
      "37/37 [==============================] - 0s 3ms/step - loss: 0.0574 - val_loss: 0.0222\n",
      "Epoch 35/100\n",
      "37/37 [==============================] - 0s 3ms/step - loss: 0.0559 - val_loss: 0.0218\n",
      "Epoch 36/100\n",
      "37/37 [==============================] - 0s 3ms/step - loss: 0.0571 - val_loss: 0.0219\n",
      "Epoch 37/100\n",
      "37/37 [==============================] - 0s 3ms/step - loss: 0.0599 - val_loss: 0.0217\n",
      "Epoch 38/100\n",
      "37/37 [==============================] - 0s 3ms/step - loss: 0.0540 - val_loss: 0.0217\n",
      "Epoch 39/100\n",
      "37/37 [==============================] - 0s 3ms/step - loss: 0.0586 - val_loss: 0.0212\n",
      "Epoch 40/100\n",
      "37/37 [==============================] - 0s 3ms/step - loss: 0.0587 - val_loss: 0.0212\n",
      "Epoch 41/100\n",
      "37/37 [==============================] - 0s 3ms/step - loss: 0.0535 - val_loss: 0.0213\n",
      "Epoch 42/100\n",
      "37/37 [==============================] - 0s 3ms/step - loss: 0.0570 - val_loss: 0.0212\n",
      "Epoch 43/100\n",
      "37/37 [==============================] - 0s 3ms/step - loss: 0.0573 - val_loss: 0.0208\n",
      "Epoch 44/100\n",
      "37/37 [==============================] - 0s 3ms/step - loss: 0.0545 - val_loss: 0.0204\n",
      "Epoch 45/100\n",
      "37/37 [==============================] - 0s 4ms/step - loss: 0.0557 - val_loss: 0.0206\n",
      "Epoch 46/100\n",
      "37/37 [==============================] - 0s 4ms/step - loss: 0.0552 - val_loss: 0.0210\n",
      "Epoch 47/100\n",
      "37/37 [==============================] - 0s 4ms/step - loss: 0.0573 - val_loss: 0.0204\n",
      "Epoch 48/100\n",
      "37/37 [==============================] - 0s 5ms/step - loss: 0.0569 - val_loss: 0.0207\n",
      "Epoch 49/100\n",
      "37/37 [==============================] - 0s 5ms/step - loss: 0.0530 - val_loss: 0.0201\n",
      "Epoch 50/100\n",
      "37/37 [==============================] - 0s 5ms/step - loss: 0.0553 - val_loss: 0.0202\n",
      "Epoch 51/100\n",
      "37/37 [==============================] - 0s 4ms/step - loss: 0.0540 - val_loss: 0.0198\n",
      "Epoch 52/100\n",
      "37/37 [==============================] - 0s 4ms/step - loss: 0.0530 - val_loss: 0.0199\n",
      "Epoch 53/100\n",
      "37/37 [==============================] - 0s 4ms/step - loss: 0.0530 - val_loss: 0.0200\n",
      "Epoch 54/100\n",
      "37/37 [==============================] - 0s 5ms/step - loss: 0.0555 - val_loss: 0.0199\n",
      "Epoch 55/100\n",
      "37/37 [==============================] - 0s 4ms/step - loss: 0.0503 - val_loss: 0.0197\n",
      "Epoch 56/100\n",
      "37/37 [==============================] - 0s 4ms/step - loss: 0.0516 - val_loss: 0.0194\n",
      "Epoch 57/100\n",
      "37/37 [==============================] - 0s 4ms/step - loss: 0.0541 - val_loss: 0.0192\n",
      "Epoch 58/100\n",
      "37/37 [==============================] - 0s 4ms/step - loss: 0.0547 - val_loss: 0.0194\n",
      "Epoch 59/100\n",
      "37/37 [==============================] - 0s 4ms/step - loss: 0.0543 - val_loss: 0.0192\n",
      "Epoch 60/100\n",
      "37/37 [==============================] - 0s 4ms/step - loss: 0.0542 - val_loss: 0.0190\n",
      "Epoch 61/100\n",
      "37/37 [==============================] - 0s 5ms/step - loss: 0.0529 - val_loss: 0.0191\n",
      "Epoch 62/100\n",
      "37/37 [==============================] - 0s 5ms/step - loss: 0.0554 - val_loss: 0.0194\n",
      "Epoch 63/100\n",
      "37/37 [==============================] - 0s 4ms/step - loss: 0.0530 - val_loss: 0.0193\n",
      "Epoch 64/100\n",
      "37/37 [==============================] - 0s 4ms/step - loss: 0.0514 - val_loss: 0.0189\n",
      "Epoch 65/100\n",
      "37/37 [==============================] - 0s 4ms/step - loss: 0.0532 - val_loss: 0.0188\n",
      "Epoch 66/100\n",
      "37/37 [==============================] - 0s 4ms/step - loss: 0.0557 - val_loss: 0.0186\n",
      "Epoch 67/100\n",
      "37/37 [==============================] - 0s 4ms/step - loss: 0.0514 - val_loss: 0.0188\n",
      "Epoch 68/100\n",
      "37/37 [==============================] - 0s 4ms/step - loss: 0.0520 - val_loss: 0.0186\n",
      "Epoch 69/100\n",
      "37/37 [==============================] - 0s 5ms/step - loss: 0.0525 - val_loss: 0.0185\n",
      "Epoch 70/100\n",
      "37/37 [==============================] - 0s 5ms/step - loss: 0.0521 - val_loss: 0.0185\n",
      "Epoch 71/100\n",
      "37/37 [==============================] - 0s 5ms/step - loss: 0.0521 - val_loss: 0.0184\n",
      "Epoch 72/100\n",
      "37/37 [==============================] - 0s 4ms/step - loss: 0.0529 - val_loss: 0.0188\n",
      "Epoch 73/100\n",
      "37/37 [==============================] - 0s 4ms/step - loss: 0.0539 - val_loss: 0.0182\n",
      "Epoch 74/100\n",
      "37/37 [==============================] - 0s 4ms/step - loss: 0.0493 - val_loss: 0.0182\n",
      "Epoch 75/100\n",
      "37/37 [==============================] - 0s 7ms/step - loss: 0.0528 - val_loss: 0.0187\n",
      "Epoch 76/100\n",
      "37/37 [==============================] - 0s 5ms/step - loss: 0.0525 - val_loss: 0.0186\n",
      "Epoch 77/100\n",
      "37/37 [==============================] - 0s 4ms/step - loss: 0.0536 - val_loss: 0.0183\n",
      "Epoch 78/100\n",
      "37/37 [==============================] - 0s 4ms/step - loss: 0.0489 - val_loss: 0.0183\n",
      "Epoch 79/100\n",
      "37/37 [==============================] - 0s 4ms/step - loss: 0.0537 - val_loss: 0.0182\n",
      "Epoch 80/100\n",
      "37/37 [==============================] - 0s 4ms/step - loss: 0.0525 - val_loss: 0.0180\n",
      "Epoch 81/100\n",
      "37/37 [==============================] - 0s 5ms/step - loss: 0.0548 - val_loss: 0.0178\n",
      "Epoch 82/100\n",
      "37/37 [==============================] - 0s 7ms/step - loss: 0.0503 - val_loss: 0.0176\n",
      "Epoch 83/100\n"
     ]
    },
    {
     "name": "stdout",
     "output_type": "stream",
     "text": [
      "37/37 [==============================] - 0s 5ms/step - loss: 0.0526 - val_loss: 0.0177\n",
      "Epoch 84/100\n",
      "37/37 [==============================] - 0s 4ms/step - loss: 0.0532 - val_loss: 0.0176\n",
      "Epoch 85/100\n",
      "37/37 [==============================] - 0s 4ms/step - loss: 0.0517 - val_loss: 0.0179\n",
      "Epoch 86/100\n",
      "37/37 [==============================] - 0s 4ms/step - loss: 0.0542 - val_loss: 0.0175\n",
      "Epoch 87/100\n",
      "37/37 [==============================] - 0s 4ms/step - loss: 0.0517 - val_loss: 0.0175\n",
      "Epoch 88/100\n",
      "37/37 [==============================] - 0s 4ms/step - loss: 0.0532 - val_loss: 0.0176\n",
      "Epoch 89/100\n",
      "37/37 [==============================] - 0s 4ms/step - loss: 0.0518 - val_loss: 0.0174\n",
      "Epoch 90/100\n",
      "37/37 [==============================] - 0s 4ms/step - loss: 0.0537 - val_loss: 0.0173\n",
      "Epoch 91/100\n",
      "37/37 [==============================] - 0s 4ms/step - loss: 0.0516 - val_loss: 0.0174\n",
      "Epoch 92/100\n",
      "37/37 [==============================] - 0s 4ms/step - loss: 0.0524 - val_loss: 0.0173\n",
      "Epoch 93/100\n",
      "37/37 [==============================] - 0s 4ms/step - loss: 0.0522 - val_loss: 0.0171\n",
      "Epoch 94/100\n",
      "37/37 [==============================] - 0s 4ms/step - loss: 0.0530 - val_loss: 0.0171\n",
      "Epoch 95/100\n",
      "37/37 [==============================] - 0s 4ms/step - loss: 0.0522 - val_loss: 0.0175\n",
      "Epoch 96/100\n",
      "37/37 [==============================] - 0s 4ms/step - loss: 0.0512 - val_loss: 0.0175\n",
      "Epoch 97/100\n",
      "37/37 [==============================] - 0s 4ms/step - loss: 0.0500 - val_loss: 0.0173\n",
      "Epoch 98/100\n",
      "37/37 [==============================] - 0s 4ms/step - loss: 0.0497 - val_loss: 0.0172\n",
      "Epoch 99/100\n",
      "37/37 [==============================] - 0s 4ms/step - loss: 0.0504 - val_loss: 0.0170\n",
      "Epoch 100/100\n",
      "37/37 [==============================] - 0s 4ms/step - loss: 0.0495 - val_loss: 0.0169\n"
     ]
    }
   ],
   "source": [
    "# fitting the data\n",
    "history = model.fit(X[:threshold],\n",
    "                   Y[:threshold],\n",
    "                   shuffle = False, # this is a time series data\n",
    "                   epochs=100,\n",
    "                   batch_size=32,\n",
    "                   validation_split=0.2,\n",
    "                   verbose=1)"
   ]
  },
  {
   "cell_type": "code",
   "execution_count": 33,
   "id": "49ff4a54",
   "metadata": {
    "scrolled": true
   },
   "outputs": [
    {
     "data": {
      "text/plain": [
       "<matplotlib.legend.Legend at 0x1d8a2fa6a00>"
      ]
     },
     "execution_count": 33,
     "metadata": {},
     "output_type": "execute_result"
    },
    {
     "data": {
      "image/png": "[encoded data removed]",
      "text/plain": [
       "<Figure size 432x288 with 1 Axes>"
      ]
     },
     "metadata": {
      "needs_background": "light"
     },
     "output_type": "display_data"
    }
   ],
   "source": [
    "# plotting the loss iteration\n",
    "plt.plot(history.history['loss'], label='training loss')\n",
    "plt.plot(history.history['val_loss'], label='validation loss')\n",
    "plt.legend()\n",
    "\n",
    "# if training loss >> validation loss, underfitting\n",
    "# if training loss << validation loss, overfitting\n",
    "# several ways to address overfitting\n",
    "# reduce complexity of model (hidden layers, neurons, parameters input, etc)\n",
    "# add droptou and tune rate\n",
    "# more data"
   ]
  },
  {
   "cell_type": "markdown",
   "id": "5a77ef44",
   "metadata": {},
   "source": [
    "### multi-step forecast"
   ]
  },
  {
   "cell_type": "code",
   "execution_count": 35,
   "id": "714e721d",
   "metadata": {},
   "outputs": [
    {
     "name": "stdout",
     "output_type": "stream",
     "text": [
      "Number of Forecasts to do:  161\n"
     ]
    }
   ],
   "source": [
    "# prediction using the 'sliding/rolling window appraoch'\n",
    "# multi step forecast\n",
    "# using self predictions for making future predictions\n",
    "\n",
    "true_Y = Y[threshold:]\n",
    "pred_Y = []\n",
    "print('Number of Forecasts to do: ', Y.shape[0] - round(Y.shape[0]*0.9))\n",
    "latest_input = X[threshold-1:threshold]\n",
    "\n",
    "for i in range(Y.shape[0] - round(Y.shape[0]*0.9)):\n",
    "    # prediction\n",
    "    p = model.predict(latest_input.reshape(1,X.shape[1],1))[0,0]\n",
    "    \n",
    "    # update predictions\n",
    "    pred_Y.append(p)\n",
    "    latest_input = np.append(X[threshold][1:],p)"
   ]
  },
  {
   "cell_type": "code",
   "execution_count": 36,
   "id": "d43cddd3",
   "metadata": {
    "scrolled": false
   },
   "outputs": [
    {
     "data": {
      "text/plain": [
       "<matplotlib.legend.Legend at 0x1d8a49e2280>"
      ]
     },
     "execution_count": 36,
     "metadata": {},
     "output_type": "execute_result"
    },
    {
     "data": {
      "image/png": "[encoded data removed]",
      "text/plain": [
       "<Figure size 432x288 with 1 Axes>"
      ]
     },
     "metadata": {
      "needs_background": "light"
     },
     "output_type": "display_data"
    }
   ],
   "source": [
    "plt.plot(true_Y, label = 'True Value')\n",
    "plt.plot(pred_Y, label = 'Forecasted Value')\n",
    "plt.legend()"
   ]
  },
  {
   "cell_type": "markdown",
   "id": "edaf7805",
   "metadata": {},
   "source": [
    "### Multivariate Forecasting\n",
    "#### Using our training and Testing sets to create inputs"
   ]
  },
  {
   "cell_type": "code",
   "execution_count": 37,
   "id": "2078bede",
   "metadata": {
    "scrolled": true
   },
   "outputs": [
    {
     "name": "stdout",
     "output_type": "stream",
     "text": [
      "Training data shape is  10 :  [array([[1.97029945e-02, 1.19204801e-02, 8.36939210e-03, 2.19891550e-02,\n",
      "        6.72992799e-05],\n",
      "       [1.64356194e-02, 1.55884349e-02, 1.68397196e-02, 1.48275902e-02,\n",
      "        2.74373987e-04],\n",
      "       [1.26733157e-02, 1.11054757e-02, 1.27054297e-02, 9.38072282e-03,\n",
      "        5.22863636e-04],\n",
      "       [1.56436127e-02, 1.52827305e-02, 1.25038051e-02, 1.72483106e-02,\n",
      "        6.21224122e-05],\n",
      "       [3.64356919e-02, 1.22261844e-02, 1.61339103e-02, 1.04902402e-02,\n",
      "        9.34424617e-04],\n",
      "       [1.75247041e-02, 1.93581253e-02, 1.73439043e-02, 1.75509623e-02,\n",
      "        6.52285328e-04],\n",
      "       [8.11876354e-03, 1.22256869e-03, 6.75602569e-03, 0.00000000e+00,\n",
      "        1.83778803e-04],\n",
      "       [0.00000000e+00, 0.00000000e+00, 0.00000000e+00, 2.01808793e-04,\n",
      "        2.58843384e-05],\n",
      "       [2.02970297e-02, 4.78853915e-03, 1.51255409e-03, 1.51301187e-02,\n",
      "        3.70146039e-04],\n",
      "       [1.93069307e-02, 1.71167079e-02, 1.38146114e-02, 1.84587940e-02,\n",
      "        2.12251575e-04]])]\n",
      "Testing data shape is  1 :  [array([0.0320759])]\n"
     ]
    }
   ],
   "source": [
    "samples = 10\n",
    "steps = 1\n",
    "X = []\n",
    "Y = []\n",
    "\n",
    "for i in range(pct_c_gold.shape[0]-samples):\n",
    "    X.append(pct_c_gold.iloc[i:i+samples,0:5].values)\n",
    "    Y.append(pct_c_gold.iloc[i+samples,5:].values)\n",
    "    \n",
    "print('Training data shape is ', len(X[0:1][0]), ': ', X[0:1])\n",
    "print('Testing data shape is ', len(Y[0:1]), ': ', Y[0:1])"
   ]
  },
  {
   "cell_type": "code",
   "execution_count": 38,
   "id": "bfba8fe8",
   "metadata": {},
   "outputs": [],
   "source": [
    "# reshape the data to be acceptable to the model\n",
    "X = np.array(X)\n",
    "Y = np.array(Y)"
   ]
  },
  {
   "cell_type": "code",
   "execution_count": 39,
   "id": "2a13cbc9",
   "metadata": {},
   "outputs": [],
   "source": [
    "# training and testing data\n",
    "threshold = round(0.9*X.shape[0])\n",
    "trainX, trainY = X[:threshold], Y[:threshold]\n",
    "testX, testY = X[threshold:], Y[threshold:]"
   ]
  },
  {
   "cell_type": "code",
   "execution_count": 40,
   "id": "bc39c4b2",
   "metadata": {
    "scrolled": true
   },
   "outputs": [
    {
     "name": "stdout",
     "output_type": "stream",
     "text": [
      "Model: \"sequential_1\"\n",
      "_________________________________________________________________\n",
      "Layer (type)                 Output Shape              Param #   \n",
      "=================================================================\n",
      "simple_rnn_1 (SimpleRNN)     (None, 30)                1080      \n",
      "_________________________________________________________________\n",
      "dropout_1 (Dropout)          (None, 30)                0         \n",
      "_________________________________________________________________\n",
      "dense (Dense)                (None, 1)                 31        \n",
      "=================================================================\n",
      "Total params: 1,111\n",
      "Trainable params: 1,111\n",
      "Non-trainable params: 0\n",
      "_________________________________________________________________\n"
     ]
    }
   ],
   "source": [
    "# RNN\n",
    "model = keras.Sequential()\n",
    "\n",
    "# add a LSTM layer with 30 internal units\n",
    "model.add(layers.SimpleRNN(30,\n",
    "                          activation = 'tanh',\n",
    "                          use_bias = True,\n",
    "                          input_shape=(trainX.shape[1],trainX.shape[2])))\n",
    "\n",
    "# add a dropout layer (penalizing more complex models), prevents overfitting\n",
    "model.add(layers.Dropout(rate=0.2))\n",
    "\n",
    "# add a dense layer with 1 unit - regression task\n",
    "model.add(layers.Dense(1))\n",
    "\n",
    "# evaluating loss function of MSE using the adama optimizer\n",
    "model.compile(loss='mean_squared_error', optimizer='adam')\n",
    "\n",
    "# print out architecture\n",
    "model.summary()"
   ]
  },
  {
   "cell_type": "code",
   "execution_count": 41,
   "id": "b9bba6de",
   "metadata": {
    "scrolled": false
   },
   "outputs": [
    {
     "name": "stdout",
     "output_type": "stream",
     "text": [
      "Epoch 1/100\n",
      "37/37 [==============================] - 1s 10ms/step - loss: 0.0208 - val_loss: 0.0025\n",
      "Epoch 2/100\n",
      "37/37 [==============================] - 0s 4ms/step - loss: 0.0121 - val_loss: 0.0062\n",
      "Epoch 3/100\n",
      "37/37 [==============================] - 0s 3ms/step - loss: 0.0046 - val_loss: 0.0013\n",
      "Epoch 4/100\n",
      "37/37 [==============================] - 0s 3ms/step - loss: 0.0044 - val_loss: 0.0021\n",
      "Epoch 5/100\n",
      "37/37 [==============================] - 0s 3ms/step - loss: 0.0041 - val_loss: 8.4106e-04\n",
      "Epoch 6/100\n",
      "37/37 [==============================] - 0s 3ms/step - loss: 0.0033 - val_loss: 9.3613e-04\n",
      "Epoch 7/100\n",
      "37/37 [==============================] - 0s 4ms/step - loss: 0.0028 - val_loss: 9.5441e-04\n",
      "Epoch 8/100\n",
      "37/37 [==============================] - 0s 5ms/step - loss: 0.0026 - val_loss: 8.6809e-04\n",
      "Epoch 9/100\n",
      "37/37 [==============================] - 0s 7ms/step - loss: 0.0025 - val_loss: 6.4967e-04\n",
      "Epoch 10/100\n",
      "37/37 [==============================] - 0s 4ms/step - loss: 0.0020 - val_loss: 8.5416e-04\n",
      "Epoch 11/100\n",
      "37/37 [==============================] - 0s 3ms/step - loss: 0.0021 - val_loss: 0.0010\n",
      "Epoch 12/100\n",
      "37/37 [==============================] - 0s 4ms/step - loss: 0.0023 - val_loss: 0.0026\n",
      "Epoch 13/100\n",
      "37/37 [==============================] - 0s 3ms/step - loss: 0.0032 - val_loss: 6.5787e-04\n",
      "Epoch 14/100\n",
      "37/37 [==============================] - 0s 4ms/step - loss: 0.0019 - val_loss: 5.8276e-04\n",
      "Epoch 15/100\n",
      "37/37 [==============================] - 0s 5ms/step - loss: 0.0015 - val_loss: 5.8312e-04\n",
      "Epoch 16/100\n",
      "37/37 [==============================] - 0s 4ms/step - loss: 0.0015 - val_loss: 0.0017\n",
      "Epoch 17/100\n",
      "37/37 [==============================] - 0s 4ms/step - loss: 0.0018 - val_loss: 0.0011\n",
      "Epoch 18/100\n",
      "37/37 [==============================] - 0s 3ms/step - loss: 0.0021 - val_loss: 9.8127e-04\n",
      "Epoch 19/100\n",
      "37/37 [==============================] - 0s 5ms/step - loss: 0.0016 - val_loss: 8.5683e-04\n",
      "Epoch 20/100\n",
      "37/37 [==============================] - 0s 5ms/step - loss: 0.0015 - val_loss: 5.3764e-04\n",
      "Epoch 21/100\n",
      "37/37 [==============================] - 0s 4ms/step - loss: 0.0014 - val_loss: 5.5699e-04\n",
      "Epoch 22/100\n",
      "37/37 [==============================] - 0s 4ms/step - loss: 0.0017 - val_loss: 0.0013\n",
      "Epoch 23/100\n",
      "37/37 [==============================] - 0s 4ms/step - loss: 0.0020 - val_loss: 5.1571e-04\n",
      "Epoch 24/100\n",
      "37/37 [==============================] - 0s 4ms/step - loss: 0.0014 - val_loss: 0.0010\n",
      "Epoch 25/100\n",
      "37/37 [==============================] - 0s 3ms/step - loss: 0.0013 - val_loss: 5.6189e-04\n",
      "Epoch 26/100\n",
      "37/37 [==============================] - 0s 3ms/step - loss: 0.0012 - val_loss: 5.7260e-04\n",
      "Epoch 27/100\n",
      "37/37 [==============================] - 0s 3ms/step - loss: 0.0014 - val_loss: 7.6294e-04\n",
      "Epoch 28/100\n",
      "37/37 [==============================] - 0s 4ms/step - loss: 0.0011 - val_loss: 5.5999e-04\n",
      "Epoch 29/100\n",
      "37/37 [==============================] - 0s 3ms/step - loss: 0.0014 - val_loss: 4.9088e-04\n",
      "Epoch 30/100\n",
      "37/37 [==============================] - 0s 4ms/step - loss: 0.0011 - val_loss: 5.0771e-04\n",
      "Epoch 31/100\n",
      "37/37 [==============================] - 0s 4ms/step - loss: 0.0013 - val_loss: 5.9050e-04\n",
      "Epoch 32/100\n",
      "37/37 [==============================] - 0s 4ms/step - loss: 0.0012 - val_loss: 5.7836e-04\n",
      "Epoch 33/100\n",
      "37/37 [==============================] - 0s 3ms/step - loss: 0.0013 - val_loss: 5.0790e-04\n",
      "Epoch 34/100\n",
      "37/37 [==============================] - 0s 4ms/step - loss: 0.0011 - val_loss: 4.8970e-04\n",
      "Epoch 35/100\n",
      "37/37 [==============================] - 0s 6ms/step - loss: 0.0011 - val_loss: 5.3449e-04\n",
      "Epoch 36/100\n",
      "37/37 [==============================] - 0s 4ms/step - loss: 0.0011 - val_loss: 6.4540e-04\n",
      "Epoch 37/100\n",
      "37/37 [==============================] - 0s 4ms/step - loss: 0.0013 - val_loss: 8.7387e-04\n",
      "Epoch 38/100\n",
      "37/37 [==============================] - 0s 4ms/step - loss: 0.0010 - val_loss: 5.1518e-04\n",
      "Epoch 39/100\n",
      "37/37 [==============================] - 0s 4ms/step - loss: 9.6244e-04 - val_loss: 4.8541e-04\n",
      "Epoch 40/100\n",
      "37/37 [==============================] - 0s 3ms/step - loss: 0.0010 - val_loss: 6.6888e-04\n",
      "Epoch 41/100\n",
      "37/37 [==============================] - 0s 3ms/step - loss: 0.0011 - val_loss: 4.4861e-04\n",
      "Epoch 42/100\n",
      "37/37 [==============================] - 0s 4ms/step - loss: 9.7099e-04 - val_loss: 0.0016\n",
      "Epoch 43/100\n",
      "37/37 [==============================] - 0s 3ms/step - loss: 0.0012 - val_loss: 4.4020e-04\n",
      "Epoch 44/100\n",
      "37/37 [==============================] - 0s 3ms/step - loss: 9.9088e-04 - val_loss: 5.1188e-04\n",
      "Epoch 45/100\n",
      "37/37 [==============================] - 0s 3ms/step - loss: 9.7594e-04 - val_loss: 4.5855e-04\n",
      "Epoch 46/100\n",
      "37/37 [==============================] - 0s 3ms/step - loss: 9.2485e-04 - val_loss: 4.3084e-04\n",
      "Epoch 47/100\n",
      "37/37 [==============================] - 0s 4ms/step - loss: 8.6578e-04 - val_loss: 0.0010\n",
      "Epoch 48/100\n",
      "37/37 [==============================] - 0s 4ms/step - loss: 0.0011 - val_loss: 4.2498e-04\n",
      "Epoch 49/100\n",
      "37/37 [==============================] - 0s 5ms/step - loss: 9.2274e-04 - val_loss: 7.2380e-04\n",
      "Epoch 50/100\n",
      "37/37 [==============================] - 0s 3ms/step - loss: 0.0011 - val_loss: 0.0013\n",
      "Epoch 51/100\n",
      "37/37 [==============================] - 0s 4ms/step - loss: 0.0014 - val_loss: 4.6568e-04\n",
      "Epoch 52/100\n",
      "37/37 [==============================] - 0s 4ms/step - loss: 9.0999e-04 - val_loss: 4.5749e-04\n",
      "Epoch 53/100\n",
      "37/37 [==============================] - 0s 3ms/step - loss: 8.5134e-04 - val_loss: 7.9101e-04\n",
      "Epoch 54/100\n",
      "37/37 [==============================] - 0s 3ms/step - loss: 9.6165e-04 - val_loss: 6.1828e-04\n",
      "Epoch 55/100\n",
      "37/37 [==============================] - 0s 3ms/step - loss: 0.0010 - val_loss: 0.0022\n",
      "Epoch 56/100\n",
      "37/37 [==============================] - 0s 3ms/step - loss: 0.0010 - val_loss: 4.3177e-04\n",
      "Epoch 57/100\n",
      "37/37 [==============================] - 0s 3ms/step - loss: 9.5570e-04 - val_loss: 4.0929e-04\n",
      "Epoch 58/100\n",
      "37/37 [==============================] - 0s 3ms/step - loss: 8.9436e-04 - val_loss: 7.6438e-04\n",
      "Epoch 59/100\n",
      "37/37 [==============================] - 0s 3ms/step - loss: 8.8291e-04 - val_loss: 4.2250e-04\n",
      "Epoch 60/100\n",
      "37/37 [==============================] - 0s 3ms/step - loss: 9.4630e-04 - val_loss: 4.2764e-04\n",
      "Epoch 61/100\n",
      "37/37 [==============================] - 0s 3ms/step - loss: 8.0252e-04 - val_loss: 6.0277e-04\n",
      "Epoch 62/100\n",
      "37/37 [==============================] - 0s 4ms/step - loss: 0.0010 - val_loss: 6.0679e-04\n",
      "Epoch 63/100\n",
      "37/37 [==============================] - 0s 4ms/step - loss: 8.8743e-04 - val_loss: 4.4415e-04\n",
      "Epoch 64/100\n",
      "37/37 [==============================] - 0s 4ms/step - loss: 7.4163e-04 - val_loss: 4.5754e-04\n",
      "Epoch 65/100\n",
      "37/37 [==============================] - 0s 4ms/step - loss: 0.0010 - val_loss: 7.5053e-04\n",
      "Epoch 66/100\n",
      "37/37 [==============================] - 0s 5ms/step - loss: 0.0013 - val_loss: 0.0013\n",
      "Epoch 67/100\n",
      "37/37 [==============================] - 0s 5ms/step - loss: 8.6523e-04 - val_loss: 4.0910e-04\n",
      "Epoch 68/100\n",
      "37/37 [==============================] - 0s 4ms/step - loss: 6.4884e-04 - val_loss: 4.2165e-04\n",
      "Epoch 69/100\n",
      "37/37 [==============================] - 0s 5ms/step - loss: 7.2859e-04 - val_loss: 4.4803e-04\n",
      "Epoch 70/100\n",
      "37/37 [==============================] - 0s 6ms/step - loss: 7.6642e-04 - val_loss: 5.1961e-04\n",
      "Epoch 71/100\n",
      "37/37 [==============================] - 0s 6ms/step - loss: 6.4651e-04 - val_loss: 5.2714e-04\n",
      "Epoch 72/100\n",
      "37/37 [==============================] - 0s 5ms/step - loss: 6.3585e-04 - val_loss: 3.9044e-04\n",
      "Epoch 73/100\n",
      "37/37 [==============================] - 0s 5ms/step - loss: 7.8438e-04 - val_loss: 4.2775e-04\n",
      "Epoch 74/100\n",
      "37/37 [==============================] - 0s 9ms/step - loss: 7.2060e-04 - val_loss: 3.9936e-04\n",
      "Epoch 75/100\n",
      "37/37 [==============================] - 0s 5ms/step - loss: 7.8681e-04 - val_loss: 6.6654e-04\n",
      "Epoch 76/100\n",
      "37/37 [==============================] - 0s 6ms/step - loss: 9.9661e-04 - val_loss: 4.9126e-04\n",
      "Epoch 77/100\n",
      "37/37 [==============================] - 0s 9ms/step - loss: 7.9825e-04 - val_loss: 6.4064e-04\n",
      "Epoch 78/100\n",
      "37/37 [==============================] - 0s 5ms/step - loss: 6.6676e-04 - val_loss: 3.9135e-04\n",
      "Epoch 79/100\n"
     ]
    },
    {
     "name": "stdout",
     "output_type": "stream",
     "text": [
      "37/37 [==============================] - 0s 5ms/step - loss: 7.0200e-04 - val_loss: 5.0190e-04\n",
      "Epoch 80/100\n",
      "37/37 [==============================] - 0s 6ms/step - loss: 7.7510e-04 - val_loss: 4.4575e-04\n",
      "Epoch 81/100\n",
      "37/37 [==============================] - 0s 9ms/step - loss: 6.7246e-04 - val_loss: 3.8741e-04\n",
      "Epoch 82/100\n",
      "37/37 [==============================] - 0s 6ms/step - loss: 5.8959e-04 - val_loss: 3.8805e-04\n",
      "Epoch 83/100\n",
      "37/37 [==============================] - 0s 6ms/step - loss: 6.9992e-04 - val_loss: 4.6070e-04\n",
      "Epoch 84/100\n",
      "37/37 [==============================] - 0s 5ms/step - loss: 7.3840e-04 - val_loss: 4.7261e-04\n",
      "Epoch 85/100\n",
      "37/37 [==============================] - 0s 5ms/step - loss: 7.5781e-04 - val_loss: 3.9250e-04\n",
      "Epoch 86/100\n",
      "37/37 [==============================] - 0s 5ms/step - loss: 6.1343e-04 - val_loss: 4.3298e-04\n",
      "Epoch 87/100\n",
      "37/37 [==============================] - 0s 5ms/step - loss: 6.3067e-04 - val_loss: 6.3298e-04\n",
      "Epoch 88/100\n",
      "37/37 [==============================] - 0s 6ms/step - loss: 7.4737e-04 - val_loss: 4.6870e-04\n",
      "Epoch 89/100\n",
      "37/37 [==============================] - 0s 5ms/step - loss: 8.8271e-04 - val_loss: 6.0146e-04\n",
      "Epoch 90/100\n",
      "37/37 [==============================] - 0s 5ms/step - loss: 6.1146e-04 - val_loss: 4.3362e-04\n",
      "Epoch 91/100\n",
      "37/37 [==============================] - 0s 5ms/step - loss: 6.4772e-04 - val_loss: 3.7820e-04\n",
      "Epoch 92/100\n",
      "37/37 [==============================] - 0s 7ms/step - loss: 7.1860e-04 - val_loss: 3.7970e-04\n",
      "Epoch 93/100\n",
      "37/37 [==============================] - 0s 5ms/step - loss: 5.9583e-04 - val_loss: 3.7845e-04\n",
      "Epoch 94/100\n",
      "37/37 [==============================] - 0s 4ms/step - loss: 5.4983e-04 - val_loss: 4.8299e-04\n",
      "Epoch 95/100\n",
      "37/37 [==============================] - 0s 5ms/step - loss: 6.0814e-04 - val_loss: 6.7437e-04\n",
      "Epoch 96/100\n",
      "37/37 [==============================] - 0s 5ms/step - loss: 7.2503e-04 - val_loss: 4.2026e-04\n",
      "Epoch 97/100\n",
      "37/37 [==============================] - 0s 5ms/step - loss: 6.6094e-04 - val_loss: 6.6739e-04\n",
      "Epoch 98/100\n",
      "37/37 [==============================] - 0s 5ms/step - loss: 6.8999e-04 - val_loss: 3.8092e-04\n",
      "Epoch 99/100\n",
      "37/37 [==============================] - 0s 5ms/step - loss: 6.7403e-04 - val_loss: 0.0016\n",
      "Epoch 100/100\n",
      "37/37 [==============================] - 0s 5ms/step - loss: 0.0013 - val_loss: 3.8120e-04\n"
     ]
    }
   ],
   "source": [
    "# fitting the data\n",
    "history = model.fit(trainX,\n",
    "                   trainY,\n",
    "                   shuffle = False, # since it is time series data\n",
    "                   epochs=100,\n",
    "                   batch_size=32,\n",
    "                   validation_split=0.2,\n",
    "                   verbose=1)"
   ]
  },
  {
   "cell_type": "code",
   "execution_count": 42,
   "id": "3dd571e4",
   "metadata": {
    "scrolled": false
   },
   "outputs": [
    {
     "data": {
      "text/plain": [
       "<matplotlib.legend.Legend at 0x1d8a4a93af0>"
      ]
     },
     "execution_count": 42,
     "metadata": {},
     "output_type": "execute_result"
    },
    {
     "data": {
      "image/png": "[encoded data removed]",
      "text/plain": [
       "<Figure size 432x288 with 1 Axes>"
      ]
     },
     "metadata": {
      "needs_background": "light"
     },
     "output_type": "display_data"
    }
   ],
   "source": [
    "# pme step fprecast\n",
    "y_pred = model.predict(testX)\n",
    "plt.plot(testY, label = 'True Value')\n",
    "plt.plot(y_pred, label = 'Forecasted Value')\n",
    "plt.legend()"
   ]
  },
  {
   "cell_type": "code",
   "execution_count": 44,
   "id": "c881294a",
   "metadata": {},
   "outputs": [],
   "source": [
    "# prediction usign the 'sliding rolling window approach'\n",
    "# multi step forecast\n",
    "# you need to predict other items first"
   ]
  }
 ],
 "metadata": {
  "kernelspec": {
   "display_name": "py39",
   "language": "python",
   "name": "py39"
  },
  "language_info": {
   "codemirror_mode": {
    "name": "ipython",
    "version": 3
   },
   "file_extension": ".py",
   "mimetype": "text/x-python",
   "name": "python",
   "nbconvert_exporter": "python",
   "pygments_lexer": "ipython3",
   "version": "3.9.12"
  }
 },
 "nbformat": 4,
 "nbformat_minor": 5
}
